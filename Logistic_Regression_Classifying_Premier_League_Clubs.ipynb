{
  "nbformat": 4,
  "nbformat_minor": 0,
  "metadata": {
    "colab": {
      "name": "Logistic Regression Classifying Premier League Clubs.ipynb",
      "provenance": [],
      "collapsed_sections": []
    },
    "kernelspec": {
      "name": "python3",
      "display_name": "Python 3"
    }
  },
  "cells": [
    {
      "cell_type": "markdown",
      "metadata": {
        "id": "X6DX8K3bA7_i",
        "colab_type": "text"
      },
      "source": [
        "# Import Libraries"
      ]
    },
    {
      "cell_type": "code",
      "metadata": {
        "id": "cxMOet9DGiZh",
        "colab_type": "code",
        "colab": {}
      },
      "source": [
        "import pandas as pd\n",
        "import numpy as np\n",
        "import matplotlib.pyplot as plt"
      ],
      "execution_count": 1,
      "outputs": []
    },
    {
      "cell_type": "markdown",
      "metadata": {
        "id": "0_Y-b2ZcA99K",
        "colab_type": "text"
      },
      "source": [
        "# Data Cleaning/Pre-processing"
      ]
    },
    {
      "cell_type": "code",
      "metadata": {
        "id": "C_l7zfewHfmz",
        "colab_type": "code",
        "colab": {
          "base_uri": "https://localhost:8080/",
          "height": 210
        },
        "outputId": "10c06eae-ed55-4601-b64b-6db6930cb2fb"
      },
      "source": [
        "df = pd.read_csv(\"/content/players_20.csv\")\n",
        "\n",
        "# extract players' names and cont. variables\n",
        "df = df[['club', 'overall', 'potential', 'value_eur', 'wage_eur', 'international_reputation', 'weak_foot',\n",
        "       'skill_moves', 'release_clause_eur', 'pace', 'shooting',\n",
        "       'passing', 'dribbling', 'defending', 'physic', 'gk_diving',\n",
        "       'gk_handling', 'gk_kicking', 'gk_reflexes', 'gk_speed',\n",
        "       'gk_positioning', 'attacking_crossing', 'attacking_finishing',\n",
        "       'attacking_heading_accuracy', 'attacking_short_passing',\n",
        "       'attacking_volleys', 'skill_dribbling', 'skill_curve',\n",
        "       'skill_fk_accuracy', 'skill_long_passing', 'skill_ball_control',\n",
        "       'movement_acceleration', 'movement_sprint_speed', 'movement_agility',\n",
        "       'movement_reactions', 'movement_balance', 'power_shot_power',\n",
        "       'power_jumping', 'power_stamina', 'power_strength', 'power_long_shots',\n",
        "       'mentality_aggression', 'mentality_interceptions',\n",
        "       'mentality_positioning', 'mentality_vision', 'mentality_penalties',\n",
        "       'mentality_composure', 'defending_marking', 'defending_standing_tackle',\n",
        "       'defending_sliding_tackle', 'goalkeeping_diving',\n",
        "       'goalkeeping_handling', 'goalkeeping_kicking',\n",
        "       'goalkeeping_positioning', 'goalkeeping_reflexes']]\n",
        "\n",
        "# replace null values with mean\n",
        "df = df.fillna(df.mean())\n",
        "\n",
        "# selecting top 4, mid 4, and bottom 4 clubs\n",
        "df_clubs = df[(df.club =='Manchester City') | (df.club =='Liverpool') | (df.club =='Chelsea') | (df.club == 'Tottenham Hotspur') |\n",
        "              (df.club =='Leiceter City') | (df.club =='West Ham United') | (df.club =='Watford') | (df.club == 'Crystal Palace') |\n",
        "              (df.club == 'Brighton & Hove Albion') |(df.club == 'Cardiff City') | (df.club == 'Fulham') | (df.club == 'Huddersfield Town')]\n",
        "\n",
        "# categorizing by top 4, mid 4, and bottom 4\n",
        "df_clubs.club = df_clubs.club.replace({'Manchester City':'top 4', 'Liverpool':'top 4', 'Chelsea':'top 4', 'Tottenham Hotspur':'top 4',\n",
        "                                       'Leiceter City':'mid 4', 'West Ham United':'mid 4', 'Watford':'mid 4', 'Crystal Palace':'mid 4',\n",
        "                                       'Brighton & Hove Albion':'bottom 4', 'Cardiff City':'bottom 4', 'Fulham':'bottom 4', 'Huddersfield Town':'bottom 4'})\n",
        "\n",
        "df_clubs.club.value_counts()"
      ],
      "execution_count": 2,
      "outputs": [
        {
          "output_type": "stream",
          "text": [
            "/usr/local/lib/python3.6/dist-packages/pandas/core/generic.py:5303: SettingWithCopyWarning: \n",
            "A value is trying to be set on a copy of a slice from a DataFrame.\n",
            "Try using .loc[row_indexer,col_indexer] = value instead\n",
            "\n",
            "See the caveats in the documentation: https://pandas.pydata.org/pandas-docs/stable/user_guide/indexing.html#returning-a-view-versus-a-copy\n",
            "  self[name] = value\n"
          ],
          "name": "stderr"
        },
        {
          "output_type": "execute_result",
          "data": {
            "text/plain": [
              "top 4       132\n",
              "bottom 4    123\n",
              "mid 4        99\n",
              "Name: club, dtype: int64"
            ]
          },
          "metadata": {
            "tags": []
          },
          "execution_count": 2
        }
      ]
    },
    {
      "cell_type": "markdown",
      "metadata": {
        "id": "qu_0uA0qBB4_",
        "colab_type": "text"
      },
      "source": [
        "# Train & Test Split"
      ]
    },
    {
      "cell_type": "code",
      "metadata": {
        "id": "AptnU5GaITY6",
        "colab_type": "code",
        "colab": {}
      },
      "source": [
        "# X - all features except the club , y - clubs\n",
        "X = df_clubs.iloc[:, 1:].values\n",
        "y = df_clubs.club.values\n",
        "\n",
        "# 80/20 train & test split\n",
        "from sklearn.model_selection import train_test_split\n",
        "X_train, X_test, y_train, y_test = train_test_split(X, y, test_size=0.20, random_state = 1)\n",
        "\n",
        "# standardize data\n",
        "from sklearn.preprocessing import StandardScaler\n",
        "scaler = StandardScaler()\n",
        "scaler.fit(X_train)\n",
        "\n",
        "# scale both the train and the test set\n",
        "X_train = scaler.transform(X_train)\n",
        "X_test = scaler.transform(X_test)"
      ],
      "execution_count": 3,
      "outputs": []
    },
    {
      "cell_type": "markdown",
      "metadata": {
        "id": "ZjHC3eWhBF5A",
        "colab_type": "text"
      },
      "source": [
        "# Apply Logistic Regression"
      ]
    },
    {
      "cell_type": "code",
      "metadata": {
        "id": "YardOTmgIlIK",
        "colab_type": "code",
        "colab": {}
      },
      "source": [
        "from sklearn.linear_model import LogisticRegression\n",
        "\n",
        "# initialize the logistic regression classifier\n",
        "lr = LogisticRegression(random_state = 1, max_iter = 500)\n",
        "\n",
        "# train the model\n",
        "lr.fit(X_train, y_train)\n",
        "\n",
        "# get prediction\n",
        "y_pred = lr.predict(X_test)"
      ],
      "execution_count": 4,
      "outputs": []
    },
    {
      "cell_type": "markdown",
      "metadata": {
        "id": "XoyPHuy0BJNc",
        "colab_type": "text"
      },
      "source": [
        "# Model Evaluation"
      ]
    },
    {
      "cell_type": "code",
      "metadata": {
        "id": "_oBeuagrJPDb",
        "colab_type": "code",
        "colab": {
          "base_uri": "https://localhost:8080/",
          "height": 311
        },
        "outputId": "18d63e23-72d7-4a9f-c505-3912d220c72c"
      },
      "source": [
        "from sklearn.metrics import confusion_matrix, accuracy_score\n",
        "from sklearn.model_selection import cross_val_score\n",
        "\n",
        "print(\"-----------Confusion matrix-----------\")\n",
        "print(pd.crosstab(y_test, y_pred, rownames=['True'], colnames=['Predicted'], margins=True))\n",
        "print(\"--------------------------------------\")\n",
        "\n",
        "print(\"Test set accuracy: {:.2f}\".format(accuracy_score(y_test, y_pred)))\n",
        "print(\"=======================================\")\n",
        "\n",
        "# 10 fold CV\n",
        "acc = cross_val_score(lr, X_test, y_test, cv=10)\n",
        "print(\"\\n10-fold CV accuracy for each fold\\n {}\".format(acc))\n",
        "print(\"\\n--------------------------------------\")\n",
        "print(\"10-fold CV Average Accuracy: {:.2f}\".format(acc.mean()))"
      ],
      "execution_count": 8,
      "outputs": [
        {
          "output_type": "stream",
          "text": [
            "-----------Confusion matrix-----------\n",
            "Predicted  bottom 4  mid 4  top 4  All\n",
            "True                                  \n",
            "bottom 4         11      5      6   22\n",
            "mid 4             8     15      7   30\n",
            "top 4             4      4     11   19\n",
            "All              23     24     24   71\n",
            "--------------------------------------\n",
            "Test set accuracy: 0.52\n",
            "=======================================\n",
            "\n",
            "10-fold CV accuracy for each fold\n",
            " [1.         0.71428571 0.71428571 0.42857143 0.14285714 0.28571429\n",
            " 0.42857143 0.71428571 0.28571429 0.85714286]\n",
            "\n",
            "--------------------------------------\n",
            "10-fold CV Average Accuracy: 0.56\n"
          ],
          "name": "stdout"
        }
      ]
    },
    {
      "cell_type": "markdown",
      "metadata": {
        "id": "MT0OYECRBaY_",
        "colab_type": "text"
      },
      "source": [
        "# Use less number of predictors"
      ]
    },
    {
      "cell_type": "code",
      "metadata": {
        "id": "p2jjZ33wLdPB",
        "colab_type": "code",
        "colab": {
          "base_uri": "https://localhost:8080/",
          "height": 210
        },
        "outputId": "1c7df566-8cf7-4909-c130-fb6355ab297b"
      },
      "source": [
        "df = pd.read_csv(\"/content/players_20.csv\")\n",
        "\n",
        "# extract players' names and some cont. variables\n",
        "df = df[['club', 'overall', 'potential', 'value_eur', 'wage_eur', 'international_reputation']]\n",
        "\n",
        "# replace null values with mean\n",
        "df = df.fillna(df.mean())\n",
        "\n",
        "# selecting top 4, mid 4, and bottom 4 clubs\n",
        "df_clubs = df[(df.club =='Manchester City') | (df.club =='Liverpool') | (df.club =='Chelsea') | (df.club == 'Tottenham Hotspur') |\n",
        "              (df.club =='Leiceter City') | (df.club =='West Ham United') | (df.club =='Watford') | (df.club == 'Crystal Palace') |\n",
        "              (df.club == 'Brighton & Hove Albion') |(df.club == 'Cardiff City') | (df.club == 'Fulham') | (df.club == 'Huddersfield Town')]\n",
        "\n",
        "# categorizing by top 4, mid 4, and bottom 4\n",
        "df_clubs.club = df_clubs.club.replace({'Manchester City':'top 4', 'Liverpool':'top 4', 'Chelsea':'top 4', 'Tottenham Hotspur':'top 4',\n",
        "                                       'Leiceter City':'mid 4', 'West Ham United':'mid 4', 'Watford':'mid 4', 'Crystal Palace':'mid 4',\n",
        "                                       'Brighton & Hove Albion':'bottom 4', 'Cardiff City':'bottom 4', 'Fulham':'bottom 4', 'Huddersfield Town':'bottom 4'})\n",
        "\n",
        "df_clubs.club.value_counts()"
      ],
      "execution_count": 9,
      "outputs": [
        {
          "output_type": "stream",
          "text": [
            "/usr/local/lib/python3.6/dist-packages/pandas/core/generic.py:5303: SettingWithCopyWarning: \n",
            "A value is trying to be set on a copy of a slice from a DataFrame.\n",
            "Try using .loc[row_indexer,col_indexer] = value instead\n",
            "\n",
            "See the caveats in the documentation: https://pandas.pydata.org/pandas-docs/stable/user_guide/indexing.html#returning-a-view-versus-a-copy\n",
            "  self[name] = value\n"
          ],
          "name": "stderr"
        },
        {
          "output_type": "execute_result",
          "data": {
            "text/plain": [
              "top 4       132\n",
              "bottom 4    123\n",
              "mid 4        99\n",
              "Name: club, dtype: int64"
            ]
          },
          "metadata": {
            "tags": []
          },
          "execution_count": 9
        }
      ]
    },
    {
      "cell_type": "code",
      "metadata": {
        "id": "ygLa8Fp6OLmY",
        "colab_type": "code",
        "colab": {
          "base_uri": "https://localhost:8080/",
          "height": 329
        },
        "outputId": "cc9f785b-e8d7-4d26-a57d-9c4742098d90"
      },
      "source": [
        "# X - all features except the club , y - clubs\n",
        "X = df_clubs.iloc[:, 1:].values\n",
        "y = df_clubs.club.values\n",
        "\n",
        "# train and test split\n",
        "from sklearn.model_selection import train_test_split\n",
        "X_train, X_test, y_train, y_test = train_test_split(X, y, test_size=0.20, random_state = 1)\n",
        "\n",
        "# standardizing\n",
        "from sklearn.preprocessing import StandardScaler\n",
        "scaler = StandardScaler()\n",
        "scaler.fit(X_train)\n",
        "\n",
        "# scale both the train and the test set\n",
        "X_train = scaler.transform(X_train)\n",
        "X_test = scaler.transform(X_test)\n",
        "\n",
        "from sklearn.linear_model import LogisticRegression\n",
        "\n",
        "# initialize the logistic regression classifier\n",
        "lr = LogisticRegression(random_state = 1, max_iter = 500)\n",
        "\n",
        "# train the model\n",
        "lr.fit(X_train, y_train)\n",
        "\n",
        "# get prediction\n",
        "y_pred = lr.predict(X_test)\n",
        "\n",
        "from sklearn.metrics import confusion_matrix, accuracy_score\n",
        "from sklearn.model_selection import cross_val_score\n",
        "\n",
        "print(\"-----------Confusion matrix-----------\")\n",
        "print(pd.crosstab(y_test, y_pred, rownames=['True'], colnames=['Predicted'], margins=True))\n",
        "print(\"--------------------------------------\")\n",
        "\n",
        "print(\"\\nTest set accuracy: {:.2f}\".format(accuracy_score(y_test, y_pred)))\n",
        "print(\"=======================================\")\n",
        "\n",
        "# 10 fold CV\n",
        "acc = cross_val_score(lr, X_test, y_test, cv=10)\n",
        "print(\"\\n10-fold CV accuracy for each fold\\n {}\".format(acc))\n",
        "print(\"\\n--------------------------------------\")\n",
        "print(\"10-fold CV Average Accuracy: {:.2f}\".format(acc.mean()))"
      ],
      "execution_count": 11,
      "outputs": [
        {
          "output_type": "stream",
          "text": [
            "-----------Confusion matrix-----------\n",
            "Predicted  bottom 4  mid 4  top 4  All\n",
            "True                                  \n",
            "bottom 4         18      2      2   22\n",
            "mid 4             7     15      8   30\n",
            "top 4             2      3     14   19\n",
            "All              27     20     24   71\n",
            "--------------------------------------\n",
            "\n",
            "Test set accuracy: 0.66\n",
            "=======================================\n",
            "\n",
            "10-fold CV accuracy for each fold\n",
            " [0.875      0.85714286 0.71428571 0.71428571 0.28571429 0.42857143\n",
            " 0.85714286 0.85714286 0.28571429 1.        ]\n",
            "\n",
            "--------------------------------------\n",
            "10-fold CV Average Accuracy: 0.69\n"
          ],
          "name": "stdout"
        }
      ]
    },
    {
      "cell_type": "code",
      "metadata": {
        "id": "XkhumC2ROWtN",
        "colab_type": "code",
        "colab": {}
      },
      "source": [
        ""
      ],
      "execution_count": null,
      "outputs": []
    }
  ]
}