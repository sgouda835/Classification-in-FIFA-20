{
  "nbformat": 4,
  "nbformat_minor": 0,
  "metadata": {
    "colab": {
      "name": "Decision Tree Classifying Premier League Clubs.ipynb",
      "provenance": [],
      "collapsed_sections": []
    },
    "kernelspec": {
      "name": "python3",
      "display_name": "Python 3"
    }
  },
  "cells": [
    {
      "cell_type": "markdown",
      "metadata": {
        "id": "X6DX8K3bA7_i",
        "colab_type": "text"
      },
      "source": [
        "# Import Libraries"
      ]
    },
    {
      "cell_type": "code",
      "metadata": {
        "id": "cxMOet9DGiZh",
        "colab_type": "code",
        "colab": {}
      },
      "source": [
        "import pandas as pd\n",
        "import numpy as np\n",
        "import matplotlib.pyplot as plt"
      ],
      "execution_count": null,
      "outputs": []
    },
    {
      "cell_type": "markdown",
      "metadata": {
        "id": "0_Y-b2ZcA99K",
        "colab_type": "text"
      },
      "source": [
        "# Data Cleaning/Pre-processing"
      ]
    },
    {
      "cell_type": "code",
      "metadata": {
        "id": "C_l7zfewHfmz",
        "colab_type": "code",
        "colab": {
          "base_uri": "https://localhost:8080/",
          "height": 190
        },
        "outputId": "b0e45eac-b6fc-4161-fe42-f0316c57e1b7"
      },
      "source": [
        "df = pd.read_csv(\"/content/players_20.csv\")\n",
        "\n",
        "# extract players' names and cont. variables\n",
        "df = df[['club', 'overall', 'potential', 'value_eur', 'wage_eur', 'international_reputation', 'weak_foot']]\n",
        "\n",
        "# replace null values with mean\n",
        "df = df.fillna(df.mean())\n",
        "\n",
        "# selecting top 4, mid 4, and bottom 4 clubs\n",
        "df_clubs = df[(df.club =='Manchester City') | (df.club =='Liverpool') | (df.club =='Chelsea') | (df.club == 'Tottenham Hotspur') |\n",
        "              (df.club =='Leiceter City') | (df.club =='West Ham United') | (df.club =='Watford') | (df.club == 'Crystal Palace') |\n",
        "              (df.club == 'Brighton & Hove Albion') |(df.club == 'Cardiff City') | (df.club == 'Fulham') | (df.club == 'Huddersfield Town')]\n",
        "\n",
        "# categorizing by top 4, mid 4, and bottom 4\n",
        "df_clubs.club = df_clubs.club.replace({'Manchester City':'top 4', 'Liverpool':'top 4', 'Chelsea':'top 4', 'Tottenham Hotspur':'top 4',\n",
        "                                       'Leiceter City':'mid 4', 'West Ham United':'mid 4', 'Watford':'mid 4', 'Crystal Palace':'mid 4',\n",
        "                                       'Brighton & Hove Albion':'bottom 4', 'Cardiff City':'bottom 4', 'Fulham':'bottom 4', 'Huddersfield Town':'bottom 4'})\n",
        "\n",
        "df_clubs.club.value_counts()"
      ],
      "execution_count": null,
      "outputs": [
        {
          "output_type": "stream",
          "text": [
            "/usr/local/lib/python3.6/dist-packages/pandas/core/generic.py:5303: SettingWithCopyWarning: \n",
            "A value is trying to be set on a copy of a slice from a DataFrame.\n",
            "Try using .loc[row_indexer,col_indexer] = value instead\n",
            "\n",
            "See the caveats in the documentation: https://pandas.pydata.org/pandas-docs/stable/user_guide/indexing.html#returning-a-view-versus-a-copy\n",
            "  self[name] = value\n"
          ],
          "name": "stderr"
        },
        {
          "output_type": "execute_result",
          "data": {
            "text/plain": [
              "top 4       132\n",
              "bottom 4    123\n",
              "mid 4        99\n",
              "Name: club, dtype: int64"
            ]
          },
          "metadata": {
            "tags": []
          },
          "execution_count": 2
        }
      ]
    },
    {
      "cell_type": "markdown",
      "metadata": {
        "id": "qu_0uA0qBB4_",
        "colab_type": "text"
      },
      "source": [
        "# Train & Test Split"
      ]
    },
    {
      "cell_type": "code",
      "metadata": {
        "id": "AptnU5GaITY6",
        "colab_type": "code",
        "colab": {}
      },
      "source": [
        "# X - all features except the club , y - clubs\n",
        "X = df_clubs.iloc[:, 1:].values\n",
        "y = df_clubs.club.values\n",
        "\n",
        "# 80/20 train & test split\n",
        "from sklearn.model_selection import train_test_split\n",
        "X_train, X_test, y_train, y_test = train_test_split(X, y, test_size=0.20, random_state = 1)\n",
        "\n",
        "# standardize data\n",
        "from sklearn.preprocessing import StandardScaler\n",
        "scaler = StandardScaler()\n",
        "scaler.fit(X_train)\n",
        "\n",
        "# scale both the train and the test set\n",
        "X_train = scaler.transform(X_train)\n",
        "X_test = scaler.transform(X_test)"
      ],
      "execution_count": null,
      "outputs": []
    },
    {
      "cell_type": "markdown",
      "metadata": {
        "id": "ZjHC3eWhBF5A",
        "colab_type": "text"
      },
      "source": [
        "# Apply Decision Tree"
      ]
    },
    {
      "cell_type": "code",
      "metadata": {
        "id": "YardOTmgIlIK",
        "colab_type": "code",
        "colab": {}
      },
      "source": [
        "from sklearn.tree import DecisionTreeClassifier\n",
        "\n",
        "# initialize the decision tree classifier\n",
        "dtc = DecisionTreeClassifier()\n",
        "\n",
        "# train the model\n",
        "dtc.fit(X_train, y_train)\n",
        "\n",
        "# get prediction\n",
        "y_pred = dtc.predict(X_test)"
      ],
      "execution_count": null,
      "outputs": []
    },
    {
      "cell_type": "markdown",
      "metadata": {
        "id": "XoyPHuy0BJNc",
        "colab_type": "text"
      },
      "source": [
        "# Model Evaluation"
      ]
    },
    {
      "cell_type": "code",
      "metadata": {
        "id": "_oBeuagrJPDb",
        "colab_type": "code",
        "colab": {
          "base_uri": "https://localhost:8080/",
          "height": 311
        },
        "outputId": "23192d10-b67f-47ce-f1d1-2e0c4c2d5904"
      },
      "source": [
        "from sklearn.metrics import confusion_matrix, accuracy_score\n",
        "from sklearn.model_selection import cross_val_score\n",
        "\n",
        "print(\"-----------Confusion matrix-----------\")\n",
        "print(pd.crosstab(y_test, y_pred, rownames=['True'], colnames=['Predicted'], margins=True))\n",
        "print(\"--------------------------------------\")\n",
        "\n",
        "print(\"Test set accuracy: {:.2f}\".format(accuracy_score(y_test, y_pred)))\n",
        "print(\"=======================================\")\n",
        "\n",
        "# 10 fold CV\n",
        "acc = cross_val_score(dtc, X_test, y_test, cv=10)\n",
        "print(\"\\n10-fold CV accuracy for each fold\\n {}\".format(acc))\n",
        "print(\"\\n--------------------------------------\")\n",
        "print(\"10-fold CV Average Accuracy: {:.2f}\".format(acc.mean()))"
      ],
      "execution_count": null,
      "outputs": [
        {
          "output_type": "stream",
          "text": [
            "-----------Confusion matrix-----------\n",
            "Predicted  bottom 4  mid 4  top 4  All\n",
            "True                                  \n",
            "bottom 4         18      4      0   22\n",
            "mid 4             9     12      9   30\n",
            "top 4             5      3     11   19\n",
            "All              32     19     20   71\n",
            "--------------------------------------\n",
            "Test set accuracy: 0.58\n",
            "=======================================\n",
            "\n",
            "10-fold CV accuracy for each fold\n",
            " [0.75       0.85714286 0.71428571 0.57142857 0.28571429 0.57142857\n",
            " 0.85714286 0.85714286 0.42857143 0.42857143]\n",
            "\n",
            "--------------------------------------\n",
            "10-fold CV Average Accuracy: 0.63\n"
          ],
          "name": "stdout"
        }
      ]
    },
    {
      "cell_type": "markdown",
      "metadata": {
        "id": "MT0OYECRBaY_",
        "colab_type": "text"
      },
      "source": [
        "# Apply GridSearchCV to optimize parameters"
      ]
    },
    {
      "cell_type": "code",
      "metadata": {
        "id": "p2jjZ33wLdPB",
        "colab_type": "code",
        "colab": {
          "base_uri": "https://localhost:8080/",
          "height": 190
        },
        "outputId": "a7b043f6-d592-46c6-92eb-72b4dfb8ccbd"
      },
      "source": [
        "df = pd.read_csv(\"/content/players_20.csv\")\n",
        "\n",
        "# extract players' names and some cont. variables\n",
        "df = df[['club', 'overall', 'potential', 'value_eur', 'wage_eur', 'international_reputation', 'weak_foot','skill_moves']]\n",
        "\n",
        "# replace null values with mean\n",
        "df = df.fillna(df.mean())\n",
        "\n",
        "# selecting top 4, mid 4, and bottom 4 clubs\n",
        "df_clubs = df[(df.club =='Manchester City') | (df.club =='Liverpool') | (df.club =='Chelsea') | (df.club == 'Tottenham Hotspur') |\n",
        "              (df.club =='Leiceter City') | (df.club =='West Ham United') | (df.club =='Watford') | (df.club == 'Crystal Palace') |\n",
        "              (df.club == 'Brighton & Hove Albion') |(df.club == 'Cardiff City') | (df.club == 'Fulham') | (df.club == 'Huddersfield Town')]\n",
        "\n",
        "# categorizing by top 4, mid 4, and bottom 4\n",
        "df_clubs.club = df_clubs.club.replace({'Manchester City':'top 4', 'Liverpool':'top 4', 'Chelsea':'top 4', 'Tottenham Hotspur':'top 4',\n",
        "                                       'Leiceter City':'mid 4', 'West Ham United':'mid 4', 'Watford':'mid 4', 'Crystal Palace':'mid 4',\n",
        "                                       'Brighton & Hove Albion':'bottom 4', 'Cardiff City':'bottom 4', 'Fulham':'bottom 4', 'Huddersfield Town':'bottom 4'})\n",
        "\n",
        "df_clubs.club.value_counts()"
      ],
      "execution_count": null,
      "outputs": [
        {
          "output_type": "stream",
          "text": [
            "/usr/local/lib/python3.6/dist-packages/pandas/core/generic.py:5303: SettingWithCopyWarning: \n",
            "A value is trying to be set on a copy of a slice from a DataFrame.\n",
            "Try using .loc[row_indexer,col_indexer] = value instead\n",
            "\n",
            "See the caveats in the documentation: https://pandas.pydata.org/pandas-docs/stable/user_guide/indexing.html#returning-a-view-versus-a-copy\n",
            "  self[name] = value\n"
          ],
          "name": "stderr"
        },
        {
          "output_type": "execute_result",
          "data": {
            "text/plain": [
              "top 4       132\n",
              "bottom 4    123\n",
              "mid 4        99\n",
              "Name: club, dtype: int64"
            ]
          },
          "metadata": {
            "tags": []
          },
          "execution_count": 6
        }
      ]
    },
    {
      "cell_type": "code",
      "metadata": {
        "id": "ygLa8Fp6OLmY",
        "colab_type": "code",
        "colab": {}
      },
      "source": [
        "# X - all features except the club , y - clubs\n",
        "X = df_clubs.iloc[:, 1:].values\n",
        "y = df_clubs.club.values\n",
        "\n",
        "# 80/20 train & test split\n",
        "from sklearn.model_selection import train_test_split\n",
        "X_train, X_test, y_train, y_test = train_test_split(X, y, test_size=0.20, random_state = 1)\n",
        "\n",
        "# standardize data\n",
        "from sklearn.preprocessing import StandardScaler\n",
        "scaler = StandardScaler()\n",
        "scaler.fit(X_train)\n",
        "\n",
        "# scale both the train and the test set\n",
        "X_train = scaler.transform(X_train)\n",
        "X_test = scaler.transform(X_test)"
      ],
      "execution_count": null,
      "outputs": []
    },
    {
      "cell_type": "code",
      "metadata": {
        "id": "1_KCbjhFCDNb",
        "colab_type": "code",
        "colab": {}
      },
      "source": [
        "from sklearn.tree import DecisionTreeClassifier\n",
        "\n",
        "# initialize the decision tree classifier\n",
        "dtc = DecisionTreeClassifier()\n",
        "\n",
        "# train the model\n",
        "dtc.fit(X_train, y_train)\n",
        "\n",
        "# get prediction\n",
        "y_pred = dtc.predict(X_test)"
      ],
      "execution_count": null,
      "outputs": []
    },
    {
      "cell_type": "markdown",
      "metadata": {
        "id": "fl3kCbjwAamX",
        "colab_type": "text"
      },
      "source": [
        "Tune Parameters Using GridSearchCV"
      ]
    },
    {
      "cell_type": "code",
      "metadata": {
        "id": "XkhumC2ROWtN",
        "colab_type": "code",
        "colab": {
          "base_uri": "https://localhost:8080/",
          "height": 381
        },
        "outputId": "49ad8930-5421-4e13-de06-f7d63c8a75fb"
      },
      "source": [
        "from sklearn.model_selection import GridSearchCV\n",
        "\n",
        "# initialize parameters\n",
        "depths = np.arange(2,10)\n",
        "splits = np.arange(2,10)\n",
        "leaves = [1, 2, 3]\n",
        "randomState = [0]\n",
        "\n",
        "params = {\"criterion\": (\"gini\", \"entropy\"), \"splitter\" : (\"best\", \"random\"), \n",
        "          \"max_depth\" : depths, \"min_samples_split\": splits, \"min_samples_leaf\": leaves, \"random_state\" : randomState}\n",
        "\n",
        "# apply gridsearchcv with 10 fold\n",
        "gs_dtc = GridSearchCV(dtc, params, cv = 10)\n",
        "\n",
        "# train the model\n",
        "gs_dtc.fit(X_train, y_train)"
      ],
      "execution_count": null,
      "outputs": [
        {
          "output_type": "execute_result",
          "data": {
            "text/plain": [
              "GridSearchCV(cv=10, error_score=nan,\n",
              "             estimator=DecisionTreeClassifier(ccp_alpha=0.0, class_weight=None,\n",
              "                                              criterion='gini', max_depth=None,\n",
              "                                              max_features=None,\n",
              "                                              max_leaf_nodes=None,\n",
              "                                              min_impurity_decrease=0.0,\n",
              "                                              min_impurity_split=None,\n",
              "                                              min_samples_leaf=1,\n",
              "                                              min_samples_split=2,\n",
              "                                              min_weight_fraction_leaf=0.0,\n",
              "                                              presort='deprecated',\n",
              "                                              random_state=None,\n",
              "                                              splitter='best'),\n",
              "             iid='deprecated', n_jobs=None,\n",
              "             param_grid={'criterion': ('gini', 'entropy'),\n",
              "                         'max_depth': array([2, 3, 4, 5, 6, 7, 8, 9]),\n",
              "                         'min_samples_leaf': [1, 2, 3],\n",
              "                         'min_samples_split': array([2, 3, 4, 5, 6, 7, 8, 9]),\n",
              "                         'random_state': [0], 'splitter': ('best', 'random')},\n",
              "             pre_dispatch='2*n_jobs', refit=True, return_train_score=False,\n",
              "             scoring=None, verbose=0)"
            ]
          },
          "metadata": {
            "tags": []
          },
          "execution_count": 9
        }
      ]
    },
    {
      "cell_type": "code",
      "metadata": {
        "id": "G6h-HPGUBrPh",
        "colab_type": "code",
        "colab": {
          "base_uri": "https://localhost:8080/",
          "height": 121
        },
        "outputId": "55f979ad-36b3-4788-c287-8cf187183251"
      },
      "source": [
        "gs_dtc.best_params_"
      ],
      "execution_count": null,
      "outputs": [
        {
          "output_type": "execute_result",
          "data": {
            "text/plain": [
              "{'criterion': 'gini',\n",
              " 'max_depth': 9,\n",
              " 'min_samples_leaf': 3,\n",
              " 'min_samples_split': 9,\n",
              " 'random_state': 0,\n",
              " 'splitter': 'best'}"
            ]
          },
          "metadata": {
            "tags": []
          },
          "execution_count": 11
        }
      ]
    },
    {
      "cell_type": "code",
      "metadata": {
        "id": "qhDNYTEdZUvV",
        "colab_type": "code",
        "colab": {
          "base_uri": "https://localhost:8080/",
          "height": 207
        },
        "outputId": "261dea35-c920-4af2-a480-6148f2c6c8b6"
      },
      "source": [
        "# initialize the best model\n",
        "best_model = gs_dtc.best_estimator_\n",
        "\n",
        "# train the model again with the optimal params\n",
        "best_model.fit(X_train, y_train)\n",
        "\n",
        "# get the prediction\n",
        "y_pred = best_model.predict(X_test)\n",
        "\n",
        "from sklearn.metrics import confusion_matrix, accuracy_score\n",
        "from sklearn.model_selection import cross_val_score\n",
        "\n",
        "print(\"-----------Confusion matrix-----------\")\n",
        "print(pd.crosstab(y_test, y_pred, rownames=['True'], colnames=['Predicted'], margins=True))\n",
        "print(\"--------------------------------------\")\n",
        "\n",
        "print(\"\\nTest set accuracy: {:.2f}\".format(accuracy_score(y_test, y_pred)))\n",
        "print(\"=======================================\")"
      ],
      "execution_count": null,
      "outputs": [
        {
          "output_type": "stream",
          "text": [
            "-----------Confusion matrix-----------\n",
            "Predicted  bottom 4  mid 4  top 4  All\n",
            "True                                  \n",
            "bottom 4         19      2      1   22\n",
            "mid 4            12     11      7   30\n",
            "top 4             3      3     13   19\n",
            "All              34     16     21   71\n",
            "--------------------------------------\n",
            "\n",
            "Test set accuracy: 0.61\n",
            "=======================================\n"
          ],
          "name": "stdout"
        }
      ]
    },
    {
      "cell_type": "code",
      "metadata": {
        "id": "0AMybTuQM76n",
        "colab_type": "code",
        "cellView": "both",
        "colab": {
          "base_uri": "https://localhost:8080/",
          "height": 1000
        },
        "outputId": "b94b66e1-6a69-43aa-d4b8-4fae96a17fbd"
      },
      "source": [
        "import graphviz\n",
        "from sklearn import tree\n",
        "from matplotlib.pyplot import figure\n",
        "\n",
        "dot_data = tree.export_graphviz(best_model, out_file=None,  \n",
        "                      filled=True, rounded=True,  \n",
        "                      special_characters=True)  \n",
        "graph = graphviz.Source(dot_data)  \n",
        "\n",
        "plt.figure(figsize=(5,5))\n",
        "\n",
        "graph \n",
        "\n",
        "# df = df[['club', 'overall', 'potential', 'value_eur', 'wage_eur', 'international_reputation', 'weak_foot','skill_moves']]"
      ],
      "execution_count": null,
      "outputs": [
        {
          "output_type": "execute_result",
          "data": {
            "text/plain": [
              "<graphviz.files.Source at 0x7f027e0d6cf8>"
            ],
            "image/svg+xml": "<?xml version=\"1.0\" encoding=\"UTF-8\" standalone=\"no\"?>\n<!DOCTYPE svg PUBLIC \"-//W3C//DTD SVG 1.1//EN\"\n \"http://www.w3.org/Graphics/SVG/1.1/DTD/svg11.dtd\">\n<!-- Generated by graphviz version 2.40.1 (20161225.0304)\n -->\n<!-- Title: Tree Pages: 1 -->\n<svg width=\"1994pt\" height=\"961pt\"\n viewBox=\"0.00 0.00 1994.00 961.00\" xmlns=\"http://www.w3.org/2000/svg\" xmlns:xlink=\"http://www.w3.org/1999/xlink\">\n<g id=\"graph0\" class=\"graph\" transform=\"scale(1 1) rotate(0) translate(4 957)\">\n<title>Tree</title>\n<polygon fill=\"#ffffff\" stroke=\"transparent\" points=\"-4,4 -4,-957 1990,-957 1990,4 -4,4\"/>\n<!-- 0 -->\n<g id=\"node1\" class=\"node\">\n<title>0</title>\n<path fill=\"#f7f2fd\" stroke=\"#000000\" d=\"M1441.5,-953C1441.5,-953 1309.5,-953 1309.5,-953 1303.5,-953 1297.5,-947 1297.5,-941 1297.5,-941 1297.5,-901 1297.5,-901 1297.5,-895 1303.5,-889 1309.5,-889 1309.5,-889 1441.5,-889 1441.5,-889 1447.5,-889 1453.5,-895 1453.5,-901 1453.5,-901 1453.5,-941 1453.5,-941 1453.5,-947 1447.5,-953 1441.5,-953\"/>\n<text text-anchor=\"start\" x=\"1341\" y=\"-938.8\" font-family=\"Helvetica,sans-Serif\" font-size=\"14.00\" fill=\"#000000\">X</text>\n<text text-anchor=\"start\" x=\"1351\" y=\"-938.8\" font-family=\"Helvetica,sans-Serif\" baseline-shift=\"sub\" font-size=\"14.00\" fill=\"#000000\">3</text>\n<text text-anchor=\"start\" x=\"1358\" y=\"-938.8\" font-family=\"Helvetica,sans-Serif\" font-size=\"14.00\" fill=\"#000000\"> ≤ 0.223</text>\n<text text-anchor=\"start\" x=\"1337.5\" y=\"-924.8\" font-family=\"Helvetica,sans-Serif\" font-size=\"14.00\" fill=\"#000000\">gini = 0.654</text>\n<text text-anchor=\"start\" x=\"1327.5\" y=\"-910.8\" font-family=\"Helvetica,sans-Serif\" font-size=\"14.00\" fill=\"#000000\">samples = 283</text>\n<text text-anchor=\"start\" x=\"1305.5\" y=\"-896.8\" font-family=\"Helvetica,sans-Serif\" font-size=\"14.00\" fill=\"#000000\">value = [101, 69, 113]</text>\n</g>\n<!-- 1 -->\n<g id=\"node2\" class=\"node\">\n<title>1</title>\n<path fill=\"#f7d9c4\" stroke=\"#000000\" d=\"M1298.5,-853C1298.5,-853 1174.5,-853 1174.5,-853 1168.5,-853 1162.5,-847 1162.5,-841 1162.5,-841 1162.5,-801 1162.5,-801 1162.5,-795 1168.5,-789 1174.5,-789 1174.5,-789 1298.5,-789 1298.5,-789 1304.5,-789 1310.5,-795 1310.5,-801 1310.5,-801 1310.5,-841 1310.5,-841 1310.5,-847 1304.5,-853 1298.5,-853\"/>\n<text text-anchor=\"start\" x=\"1199.5\" y=\"-838.8\" font-family=\"Helvetica,sans-Serif\" font-size=\"14.00\" fill=\"#000000\">X</text>\n<text text-anchor=\"start\" x=\"1209.5\" y=\"-838.8\" font-family=\"Helvetica,sans-Serif\" baseline-shift=\"sub\" font-size=\"14.00\" fill=\"#000000\">3</text>\n<text text-anchor=\"start\" x=\"1216.5\" y=\"-838.8\" font-family=\"Helvetica,sans-Serif\" font-size=\"14.00\" fill=\"#000000\"> ≤ &#45;0.142</text>\n<text text-anchor=\"start\" x=\"1198.5\" y=\"-824.8\" font-family=\"Helvetica,sans-Serif\" font-size=\"14.00\" fill=\"#000000\">gini = 0.618</text>\n<text text-anchor=\"start\" x=\"1188.5\" y=\"-810.8\" font-family=\"Helvetica,sans-Serif\" font-size=\"14.00\" fill=\"#000000\">samples = 200</text>\n<text text-anchor=\"start\" x=\"1170.5\" y=\"-796.8\" font-family=\"Helvetica,sans-Serif\" font-size=\"14.00\" fill=\"#000000\">value = [101, 59, 40]</text>\n</g>\n<!-- 0&#45;&gt;1 -->\n<g id=\"edge1\" class=\"edge\">\n<title>0&#45;&gt;1</title>\n<path fill=\"none\" stroke=\"#000000\" d=\"M1330.7544,-888.8089C1317.6098,-879.3524 1303.1063,-868.9182 1289.4986,-859.1285\"/>\n<polygon fill=\"#000000\" stroke=\"#000000\" points=\"1291.3233,-856.1296 1281.1618,-853.1308 1287.2353,-861.8119 1291.3233,-856.1296\"/>\n<text text-anchor=\"middle\" x=\"1285.188\" y=\"-874.1044\" font-family=\"Helvetica,sans-Serif\" font-size=\"14.00\" fill=\"#000000\">True</text>\n</g>\n<!-- 52 -->\n<g id=\"node53\" class=\"node\">\n<title>52</title>\n<path fill=\"#9254e9\" stroke=\"#000000\" d=\"M1635,-853C1635,-853 1528,-853 1528,-853 1522,-853 1516,-847 1516,-841 1516,-841 1516,-801 1516,-801 1516,-795 1522,-789 1528,-789 1528,-789 1635,-789 1635,-789 1641,-789 1647,-795 1647,-801 1647,-801 1647,-841 1647,-841 1647,-847 1641,-853 1635,-853\"/>\n<text text-anchor=\"start\" x=\"1547\" y=\"-838.8\" font-family=\"Helvetica,sans-Serif\" font-size=\"14.00\" fill=\"#000000\">X</text>\n<text text-anchor=\"start\" x=\"1557\" y=\"-838.8\" font-family=\"Helvetica,sans-Serif\" baseline-shift=\"sub\" font-size=\"14.00\" fill=\"#000000\">3</text>\n<text text-anchor=\"start\" x=\"1564\" y=\"-838.8\" font-family=\"Helvetica,sans-Serif\" font-size=\"14.00\" fill=\"#000000\"> ≤ 0.642</text>\n<text text-anchor=\"start\" x=\"1543.5\" y=\"-824.8\" font-family=\"Helvetica,sans-Serif\" font-size=\"14.00\" fill=\"#000000\">gini = 0.212</text>\n<text text-anchor=\"start\" x=\"1537.5\" y=\"-810.8\" font-family=\"Helvetica,sans-Serif\" font-size=\"14.00\" fill=\"#000000\">samples = 83</text>\n<text text-anchor=\"start\" x=\"1524\" y=\"-796.8\" font-family=\"Helvetica,sans-Serif\" font-size=\"14.00\" fill=\"#000000\">value = [0, 10, 73]</text>\n</g>\n<!-- 0&#45;&gt;52 -->\n<g id=\"edge52\" class=\"edge\">\n<title>0&#45;&gt;52</title>\n<path fill=\"none\" stroke=\"#000000\" d=\"M1441.5297,-888.9467C1462.3303,-878.8494 1485.4503,-867.6261 1506.8094,-857.2576\"/>\n<polygon fill=\"#000000\" stroke=\"#000000\" points=\"1508.376,-860.3877 1515.8436,-852.872 1505.3191,-854.0905 1508.376,-860.3877\"/>\n<text text-anchor=\"middle\" x=\"1507.6605\" y=\"-872.7948\" font-family=\"Helvetica,sans-Serif\" font-size=\"14.00\" fill=\"#000000\">False</text>\n</g>\n<!-- 2 -->\n<g id=\"node3\" class=\"node\">\n<title>2</title>\n<path fill=\"#f3c2a0\" stroke=\"#000000\" d=\"M1065.5,-753C1065.5,-753 949.5,-753 949.5,-753 943.5,-753 937.5,-747 937.5,-741 937.5,-741 937.5,-701 937.5,-701 937.5,-695 943.5,-689 949.5,-689 949.5,-689 1065.5,-689 1065.5,-689 1071.5,-689 1077.5,-695 1077.5,-701 1077.5,-701 1077.5,-741 1077.5,-741 1077.5,-747 1071.5,-753 1065.5,-753\"/>\n<text text-anchor=\"start\" x=\"973\" y=\"-738.8\" font-family=\"Helvetica,sans-Serif\" font-size=\"14.00\" fill=\"#000000\">X</text>\n<text text-anchor=\"start\" x=\"983\" y=\"-738.8\" font-family=\"Helvetica,sans-Serif\" baseline-shift=\"sub\" font-size=\"14.00\" fill=\"#000000\">1</text>\n<text text-anchor=\"start\" x=\"990\" y=\"-738.8\" font-family=\"Helvetica,sans-Serif\" font-size=\"14.00\" fill=\"#000000\"> ≤ 0.656</text>\n<text text-anchor=\"start\" x=\"969.5\" y=\"-724.8\" font-family=\"Helvetica,sans-Serif\" font-size=\"14.00\" fill=\"#000000\">gini = 0.566</text>\n<text text-anchor=\"start\" x=\"959.5\" y=\"-710.8\" font-family=\"Helvetica,sans-Serif\" font-size=\"14.00\" fill=\"#000000\">samples = 162</text>\n<text text-anchor=\"start\" x=\"945.5\" y=\"-696.8\" font-family=\"Helvetica,sans-Serif\" font-size=\"14.00\" fill=\"#000000\">value = [96, 35, 31]</text>\n</g>\n<!-- 1&#45;&gt;2 -->\n<g id=\"edge2\" class=\"edge\">\n<title>1&#45;&gt;2</title>\n<path fill=\"none\" stroke=\"#000000\" d=\"M1163.0981,-788.9467C1138.8533,-778.3595 1111.774,-766.5345 1087.0887,-755.7549\"/>\n<polygon fill=\"#000000\" stroke=\"#000000\" points=\"1088.3209,-752.4739 1077.7559,-751.6794 1085.5195,-758.8889 1088.3209,-752.4739\"/>\n</g>\n<!-- 43 -->\n<g id=\"node44\" class=\"node\">\n<title>43</title>\n<path fill=\"#99f2be\" stroke=\"#000000\" d=\"M1286,-753C1286,-753 1187,-753 1187,-753 1181,-753 1175,-747 1175,-741 1175,-741 1175,-701 1175,-701 1175,-695 1181,-689 1187,-689 1187,-689 1286,-689 1286,-689 1292,-689 1298,-695 1298,-701 1298,-701 1298,-741 1298,-741 1298,-747 1292,-753 1286,-753\"/>\n<text text-anchor=\"start\" x=\"1202\" y=\"-738.8\" font-family=\"Helvetica,sans-Serif\" font-size=\"14.00\" fill=\"#000000\">X</text>\n<text text-anchor=\"start\" x=\"1212\" y=\"-738.8\" font-family=\"Helvetica,sans-Serif\" baseline-shift=\"sub\" font-size=\"14.00\" fill=\"#000000\">0</text>\n<text text-anchor=\"start\" x=\"1219\" y=\"-738.8\" font-family=\"Helvetica,sans-Serif\" font-size=\"14.00\" fill=\"#000000\"> ≤ 0.163</text>\n<text text-anchor=\"start\" x=\"1198.5\" y=\"-724.8\" font-family=\"Helvetica,sans-Serif\" font-size=\"14.00\" fill=\"#000000\">gini = 0.528</text>\n<text text-anchor=\"start\" x=\"1192.5\" y=\"-710.8\" font-family=\"Helvetica,sans-Serif\" font-size=\"14.00\" fill=\"#000000\">samples = 38</text>\n<text text-anchor=\"start\" x=\"1183\" y=\"-696.8\" font-family=\"Helvetica,sans-Serif\" font-size=\"14.00\" fill=\"#000000\">value = [5, 24, 9]</text>\n</g>\n<!-- 1&#45;&gt;43 -->\n<g id=\"edge43\" class=\"edge\">\n<title>1&#45;&gt;43</title>\n<path fill=\"none\" stroke=\"#000000\" d=\"M1236.5,-788.8089C1236.5,-780.6906 1236.5,-771.8517 1236.5,-763.3186\"/>\n<polygon fill=\"#000000\" stroke=\"#000000\" points=\"1240.0001,-763.1307 1236.5,-753.1308 1233.0001,-763.1308 1240.0001,-763.1307\"/>\n</g>\n<!-- 3 -->\n<g id=\"node4\" class=\"node\">\n<title>3</title>\n<path fill=\"#f1bc95\" stroke=\"#000000\" d=\"M889.5,-653C889.5,-653 773.5,-653 773.5,-653 767.5,-653 761.5,-647 761.5,-641 761.5,-641 761.5,-601 761.5,-601 761.5,-595 767.5,-589 773.5,-589 773.5,-589 889.5,-589 889.5,-589 895.5,-589 901.5,-595 901.5,-601 901.5,-601 901.5,-641 901.5,-641 901.5,-647 895.5,-653 889.5,-653\"/>\n<text text-anchor=\"start\" x=\"794.5\" y=\"-638.8\" font-family=\"Helvetica,sans-Serif\" font-size=\"14.00\" fill=\"#000000\">X</text>\n<text text-anchor=\"start\" x=\"804.5\" y=\"-638.8\" font-family=\"Helvetica,sans-Serif\" baseline-shift=\"sub\" font-size=\"14.00\" fill=\"#000000\">2</text>\n<text text-anchor=\"start\" x=\"811.5\" y=\"-638.8\" font-family=\"Helvetica,sans-Serif\" font-size=\"14.00\" fill=\"#000000\"> ≤ &#45;0.661</text>\n<text text-anchor=\"start\" x=\"793.5\" y=\"-624.8\" font-family=\"Helvetica,sans-Serif\" font-size=\"14.00\" fill=\"#000000\">gini = 0.519</text>\n<text text-anchor=\"start\" x=\"783.5\" y=\"-610.8\" font-family=\"Helvetica,sans-Serif\" font-size=\"14.00\" fill=\"#000000\">samples = 148</text>\n<text text-anchor=\"start\" x=\"769.5\" y=\"-596.8\" font-family=\"Helvetica,sans-Serif\" font-size=\"14.00\" fill=\"#000000\">value = [95, 34, 19]</text>\n</g>\n<!-- 2&#45;&gt;3 -->\n<g id=\"edge3\" class=\"edge\">\n<title>2&#45;&gt;3</title>\n<path fill=\"none\" stroke=\"#000000\" d=\"M950.8437,-688.8089C933.7292,-679.0848 914.7952,-668.3268 897.146,-658.2989\"/>\n<polygon fill=\"#000000\" stroke=\"#000000\" points=\"898.4738,-655.0278 888.0501,-653.1308 895.0157,-661.114 898.4738,-655.0278\"/>\n</g>\n<!-- 40 -->\n<g id=\"node41\" class=\"node\">\n<title>40</title>\n<path fill=\"#9457e9\" stroke=\"#000000\" d=\"M1057,-653C1057,-653 958,-653 958,-653 952,-653 946,-647 946,-641 946,-641 946,-601 946,-601 946,-595 952,-589 958,-589 958,-589 1057,-589 1057,-589 1063,-589 1069,-595 1069,-601 1069,-601 1069,-641 1069,-641 1069,-647 1063,-653 1057,-653\"/>\n<text text-anchor=\"start\" x=\"973\" y=\"-638.8\" font-family=\"Helvetica,sans-Serif\" font-size=\"14.00\" fill=\"#000000\">X</text>\n<text text-anchor=\"start\" x=\"983\" y=\"-638.8\" font-family=\"Helvetica,sans-Serif\" baseline-shift=\"sub\" font-size=\"14.00\" fill=\"#000000\">1</text>\n<text text-anchor=\"start\" x=\"990\" y=\"-638.8\" font-family=\"Helvetica,sans-Serif\" font-size=\"14.00\" fill=\"#000000\"> ≤ 0.984</text>\n<text text-anchor=\"start\" x=\"969.5\" y=\"-624.8\" font-family=\"Helvetica,sans-Serif\" font-size=\"14.00\" fill=\"#000000\">gini = 0.255</text>\n<text text-anchor=\"start\" x=\"963.5\" y=\"-610.8\" font-family=\"Helvetica,sans-Serif\" font-size=\"14.00\" fill=\"#000000\">samples = 14</text>\n<text text-anchor=\"start\" x=\"954\" y=\"-596.8\" font-family=\"Helvetica,sans-Serif\" font-size=\"14.00\" fill=\"#000000\">value = [1, 1, 12]</text>\n</g>\n<!-- 2&#45;&gt;40 -->\n<g id=\"edge40\" class=\"edge\">\n<title>2&#45;&gt;40</title>\n<path fill=\"none\" stroke=\"#000000\" d=\"M1007.5,-688.8089C1007.5,-680.6906 1007.5,-671.8517 1007.5,-663.3186\"/>\n<polygon fill=\"#000000\" stroke=\"#000000\" points=\"1011.0001,-663.1307 1007.5,-653.1308 1004.0001,-663.1308 1011.0001,-663.1307\"/>\n</g>\n<!-- 4 -->\n<g id=\"node5\" class=\"node\">\n<title>4</title>\n<path fill=\"#ecfdf3\" stroke=\"#000000\" d=\"M555.5,-553C555.5,-553 439.5,-553 439.5,-553 433.5,-553 427.5,-547 427.5,-541 427.5,-541 427.5,-501 427.5,-501 427.5,-495 433.5,-489 439.5,-489 439.5,-489 555.5,-489 555.5,-489 561.5,-489 567.5,-495 567.5,-501 567.5,-501 567.5,-541 567.5,-541 567.5,-547 561.5,-553 555.5,-553\"/>\n<text text-anchor=\"start\" x=\"460.5\" y=\"-538.8\" font-family=\"Helvetica,sans-Serif\" font-size=\"14.00\" fill=\"#000000\">X</text>\n<text text-anchor=\"start\" x=\"470.5\" y=\"-538.8\" font-family=\"Helvetica,sans-Serif\" baseline-shift=\"sub\" font-size=\"14.00\" fill=\"#000000\">1</text>\n<text text-anchor=\"start\" x=\"477.5\" y=\"-538.8\" font-family=\"Helvetica,sans-Serif\" font-size=\"14.00\" fill=\"#000000\"> ≤ &#45;0.166</text>\n<text text-anchor=\"start\" x=\"459.5\" y=\"-524.8\" font-family=\"Helvetica,sans-Serif\" font-size=\"14.00\" fill=\"#000000\">gini = 0.663</text>\n<text text-anchor=\"start\" x=\"453.5\" y=\"-510.8\" font-family=\"Helvetica,sans-Serif\" font-size=\"14.00\" fill=\"#000000\">samples = 47</text>\n<text text-anchor=\"start\" x=\"435.5\" y=\"-496.8\" font-family=\"Helvetica,sans-Serif\" font-size=\"14.00\" fill=\"#000000\">value = [15, 18, 14]</text>\n</g>\n<!-- 3&#45;&gt;4 -->\n<g id=\"edge4\" class=\"edge\">\n<title>3&#45;&gt;4</title>\n<path fill=\"none\" stroke=\"#000000\" d=\"M761.4827,-600.0367C707.7978,-583.9634 633.6504,-561.7636 577.6035,-544.9831\"/>\n<polygon fill=\"#000000\" stroke=\"#000000\" points=\"578.2959,-541.5369 567.7122,-542.0216 576.2881,-548.2428 578.2959,-541.5369\"/>\n</g>\n<!-- 19 -->\n<g id=\"node20\" class=\"node\">\n<title>19</title>\n<path fill=\"#eba06a\" stroke=\"#000000\" d=\"M885,-553C885,-553 778,-553 778,-553 772,-553 766,-547 766,-541 766,-541 766,-501 766,-501 766,-495 772,-489 778,-489 778,-489 885,-489 885,-489 891,-489 897,-495 897,-501 897,-501 897,-541 897,-541 897,-547 891,-553 885,-553\"/>\n<text text-anchor=\"start\" x=\"794.5\" y=\"-538.8\" font-family=\"Helvetica,sans-Serif\" font-size=\"14.00\" fill=\"#000000\">X</text>\n<text text-anchor=\"start\" x=\"804.5\" y=\"-538.8\" font-family=\"Helvetica,sans-Serif\" baseline-shift=\"sub\" font-size=\"14.00\" fill=\"#000000\">3</text>\n<text text-anchor=\"start\" x=\"811.5\" y=\"-538.8\" font-family=\"Helvetica,sans-Serif\" font-size=\"14.00\" fill=\"#000000\"> ≤ &#45;0.378</text>\n<text text-anchor=\"start\" x=\"793.5\" y=\"-524.8\" font-family=\"Helvetica,sans-Serif\" font-size=\"14.00\" fill=\"#000000\">gini = 0.345</text>\n<text text-anchor=\"start\" x=\"783.5\" y=\"-510.8\" font-family=\"Helvetica,sans-Serif\" font-size=\"14.00\" fill=\"#000000\">samples = 101</text>\n<text text-anchor=\"start\" x=\"774\" y=\"-496.8\" font-family=\"Helvetica,sans-Serif\" font-size=\"14.00\" fill=\"#000000\">value = [80, 16, 5]</text>\n</g>\n<!-- 3&#45;&gt;19 -->\n<g id=\"edge19\" class=\"edge\">\n<title>3&#45;&gt;19</title>\n<path fill=\"none\" stroke=\"#000000\" d=\"M831.5,-588.8089C831.5,-580.6906 831.5,-571.8517 831.5,-563.3186\"/>\n<polygon fill=\"#000000\" stroke=\"#000000\" points=\"835.0001,-563.1307 831.5,-553.1308 828.0001,-563.1308 835.0001,-563.1307\"/>\n</g>\n<!-- 5 -->\n<g id=\"node6\" class=\"node\">\n<title>5</title>\n<path fill=\"#ddfae9\" stroke=\"#000000\" d=\"M346,-453C346,-453 239,-453 239,-453 233,-453 227,-447 227,-441 227,-441 227,-401 227,-401 227,-395 233,-389 239,-389 239,-389 346,-389 346,-389 352,-389 358,-395 358,-401 358,-401 358,-441 358,-441 358,-447 352,-453 346,-453\"/>\n<text text-anchor=\"start\" x=\"255.5\" y=\"-438.8\" font-family=\"Helvetica,sans-Serif\" font-size=\"14.00\" fill=\"#000000\">X</text>\n<text text-anchor=\"start\" x=\"265.5\" y=\"-438.8\" font-family=\"Helvetica,sans-Serif\" baseline-shift=\"sub\" font-size=\"14.00\" fill=\"#000000\">3</text>\n<text text-anchor=\"start\" x=\"272.5\" y=\"-438.8\" font-family=\"Helvetica,sans-Serif\" font-size=\"14.00\" fill=\"#000000\"> ≤ &#45;0.907</text>\n<text text-anchor=\"start\" x=\"254.5\" y=\"-424.8\" font-family=\"Helvetica,sans-Serif\" font-size=\"14.00\" fill=\"#000000\">gini = 0.619</text>\n<text text-anchor=\"start\" x=\"248.5\" y=\"-410.8\" font-family=\"Helvetica,sans-Serif\" font-size=\"14.00\" fill=\"#000000\">samples = 36</text>\n<text text-anchor=\"start\" x=\"235\" y=\"-396.8\" font-family=\"Helvetica,sans-Serif\" font-size=\"14.00\" fill=\"#000000\">value = [13, 17, 6]</text>\n</g>\n<!-- 4&#45;&gt;5 -->\n<g id=\"edge5\" class=\"edge\">\n<title>4&#45;&gt;5</title>\n<path fill=\"none\" stroke=\"#000000\" d=\"M431.7908,-488.9467C411.2856,-478.9442 388.5154,-467.8368 367.4274,-457.55\"/>\n<polygon fill=\"#000000\" stroke=\"#000000\" points=\"368.711,-454.2819 358.1888,-453.0433 365.642,-460.5733 368.711,-454.2819\"/>\n</g>\n<!-- 16 -->\n<g id=\"node17\" class=\"node\">\n<title>16</title>\n<path fill=\"#ab7bee\" stroke=\"#000000\" d=\"M543,-453C543,-453 452,-453 452,-453 446,-453 440,-447 440,-441 440,-441 440,-401 440,-401 440,-395 446,-389 452,-389 452,-389 543,-389 543,-389 549,-389 555,-395 555,-401 555,-401 555,-441 555,-441 555,-447 549,-453 543,-453\"/>\n<text text-anchor=\"start\" x=\"460.5\" y=\"-438.8\" font-family=\"Helvetica,sans-Serif\" font-size=\"14.00\" fill=\"#000000\">X</text>\n<text text-anchor=\"start\" x=\"470.5\" y=\"-438.8\" font-family=\"Helvetica,sans-Serif\" baseline-shift=\"sub\" font-size=\"14.00\" fill=\"#000000\">3</text>\n<text text-anchor=\"start\" x=\"477.5\" y=\"-438.8\" font-family=\"Helvetica,sans-Serif\" font-size=\"14.00\" fill=\"#000000\"> ≤ &#45;0.907</text>\n<text text-anchor=\"start\" x=\"464\" y=\"-424.8\" font-family=\"Helvetica,sans-Serif\" font-size=\"14.00\" fill=\"#000000\">gini = 0.43</text>\n<text text-anchor=\"start\" x=\"453.5\" y=\"-410.8\" font-family=\"Helvetica,sans-Serif\" font-size=\"14.00\" fill=\"#000000\">samples = 11</text>\n<text text-anchor=\"start\" x=\"448\" y=\"-396.8\" font-family=\"Helvetica,sans-Serif\" font-size=\"14.00\" fill=\"#000000\">value = [2, 1, 8]</text>\n</g>\n<!-- 4&#45;&gt;16 -->\n<g id=\"edge16\" class=\"edge\">\n<title>4&#45;&gt;16</title>\n<path fill=\"none\" stroke=\"#000000\" d=\"M497.5,-488.8089C497.5,-480.6906 497.5,-471.8517 497.5,-463.3186\"/>\n<polygon fill=\"#000000\" stroke=\"#000000\" points=\"501.0001,-463.1307 497.5,-453.1308 494.0001,-463.1308 501.0001,-463.1307\"/>\n</g>\n<!-- 6 -->\n<g id=\"node7\" class=\"node\">\n<title>6</title>\n<path fill=\"#e99355\" stroke=\"#000000\" d=\"M201,-347.5C201,-347.5 110,-347.5 110,-347.5 104,-347.5 98,-341.5 98,-335.5 98,-335.5 98,-306.5 98,-306.5 98,-300.5 104,-294.5 110,-294.5 110,-294.5 201,-294.5 201,-294.5 207,-294.5 213,-300.5 213,-306.5 213,-306.5 213,-335.5 213,-335.5 213,-341.5 207,-347.5 201,-347.5\"/>\n<text text-anchor=\"start\" x=\"117.5\" y=\"-332.3\" font-family=\"Helvetica,sans-Serif\" font-size=\"14.00\" fill=\"#000000\">gini = 0.219</text>\n<text text-anchor=\"start\" x=\"116\" y=\"-317.3\" font-family=\"Helvetica,sans-Serif\" font-size=\"14.00\" fill=\"#000000\">samples = 8</text>\n<text text-anchor=\"start\" x=\"106\" y=\"-302.3\" font-family=\"Helvetica,sans-Serif\" font-size=\"14.00\" fill=\"#000000\">value = [7, 1, 0]</text>\n</g>\n<!-- 5&#45;&gt;6 -->\n<g id=\"edge6\" class=\"edge\">\n<title>5&#45;&gt;6</title>\n<path fill=\"none\" stroke=\"#000000\" d=\"M248.3982,-388.8089C233.0864,-377.6324 215.9036,-365.0902 200.5186,-353.8603\"/>\n<polygon fill=\"#000000\" stroke=\"#000000\" points=\"202.3204,-350.8423 192.1797,-347.7735 198.1934,-356.4963 202.3204,-350.8423\"/>\n</g>\n<!-- 7 -->\n<g id=\"node8\" class=\"node\">\n<title>7</title>\n<path fill=\"#a5f3c6\" stroke=\"#000000\" d=\"M342,-353C342,-353 243,-353 243,-353 237,-353 231,-347 231,-341 231,-341 231,-301 231,-301 231,-295 237,-289 243,-289 243,-289 342,-289 342,-289 348,-289 354,-295 354,-301 354,-301 354,-341 354,-341 354,-347 348,-353 342,-353\"/>\n<text text-anchor=\"start\" x=\"255.5\" y=\"-338.8\" font-family=\"Helvetica,sans-Serif\" font-size=\"14.00\" fill=\"#000000\">X</text>\n<text text-anchor=\"start\" x=\"265.5\" y=\"-338.8\" font-family=\"Helvetica,sans-Serif\" baseline-shift=\"sub\" font-size=\"14.00\" fill=\"#000000\">5</text>\n<text text-anchor=\"start\" x=\"272.5\" y=\"-338.8\" font-family=\"Helvetica,sans-Serif\" font-size=\"14.00\" fill=\"#000000\"> ≤ &#45;0.815</text>\n<text text-anchor=\"start\" x=\"254.5\" y=\"-324.8\" font-family=\"Helvetica,sans-Serif\" font-size=\"14.00\" fill=\"#000000\">gini = 0.582</text>\n<text text-anchor=\"start\" x=\"248.5\" y=\"-310.8\" font-family=\"Helvetica,sans-Serif\" font-size=\"14.00\" fill=\"#000000\">samples = 28</text>\n<text text-anchor=\"start\" x=\"239\" y=\"-296.8\" font-family=\"Helvetica,sans-Serif\" font-size=\"14.00\" fill=\"#000000\">value = [6, 16, 6]</text>\n</g>\n<!-- 5&#45;&gt;7 -->\n<g id=\"edge7\" class=\"edge\">\n<title>5&#45;&gt;7</title>\n<path fill=\"none\" stroke=\"#000000\" d=\"M292.5,-388.8089C292.5,-380.6906 292.5,-371.8517 292.5,-363.3186\"/>\n<polygon fill=\"#000000\" stroke=\"#000000\" points=\"296.0001,-363.1307 292.5,-353.1308 289.0001,-363.1308 296.0001,-363.1307\"/>\n</g>\n<!-- 8 -->\n<g id=\"node9\" class=\"node\">\n<title>8</title>\n<path fill=\"#e0cef8\" stroke=\"#000000\" d=\"M235,-253C235,-253 144,-253 144,-253 138,-253 132,-247 132,-241 132,-241 132,-201 132,-201 132,-195 138,-189 144,-189 144,-189 235,-189 235,-189 241,-189 247,-195 247,-201 247,-201 247,-241 247,-241 247,-247 241,-253 235,-253\"/>\n<text text-anchor=\"start\" x=\"152.5\" y=\"-238.8\" font-family=\"Helvetica,sans-Serif\" font-size=\"14.00\" fill=\"#000000\">X</text>\n<text text-anchor=\"start\" x=\"162.5\" y=\"-238.8\" font-family=\"Helvetica,sans-Serif\" baseline-shift=\"sub\" font-size=\"14.00\" fill=\"#000000\">6</text>\n<text text-anchor=\"start\" x=\"169.5\" y=\"-238.8\" font-family=\"Helvetica,sans-Serif\" font-size=\"14.00\" fill=\"#000000\"> ≤ &#45;1.333</text>\n<text text-anchor=\"start\" x=\"151.5\" y=\"-224.8\" font-family=\"Helvetica,sans-Serif\" font-size=\"14.00\" fill=\"#000000\">gini = 0.611</text>\n<text text-anchor=\"start\" x=\"145.5\" y=\"-210.8\" font-family=\"Helvetica,sans-Serif\" font-size=\"14.00\" fill=\"#000000\">samples = 12</text>\n<text text-anchor=\"start\" x=\"140\" y=\"-196.8\" font-family=\"Helvetica,sans-Serif\" font-size=\"14.00\" fill=\"#000000\">value = [2, 4, 6]</text>\n</g>\n<!-- 7&#45;&gt;8 -->\n<g id=\"edge8\" class=\"edge\">\n<title>7&#45;&gt;8</title>\n<path fill=\"none\" stroke=\"#000000\" d=\"M259.3432,-288.8089C249.9705,-279.7092 239.6654,-269.7043 229.9166,-260.2394\"/>\n<polygon fill=\"#000000\" stroke=\"#000000\" points=\"232.2075,-257.5854 222.5947,-253.1308 227.3314,-262.6078 232.2075,-257.5854\"/>\n</g>\n<!-- 11 -->\n<g id=\"node12\" class=\"node\">\n<title>11</title>\n<path fill=\"#7beeab\" stroke=\"#000000\" d=\"M376,-253C376,-253 277,-253 277,-253 271,-253 265,-247 265,-241 265,-241 265,-201 265,-201 265,-195 271,-189 277,-189 277,-189 376,-189 376,-189 382,-189 388,-195 388,-201 388,-201 388,-241 388,-241 388,-247 382,-253 376,-253\"/>\n<text text-anchor=\"start\" x=\"289.5\" y=\"-238.8\" font-family=\"Helvetica,sans-Serif\" font-size=\"14.00\" fill=\"#000000\">X</text>\n<text text-anchor=\"start\" x=\"299.5\" y=\"-238.8\" font-family=\"Helvetica,sans-Serif\" baseline-shift=\"sub\" font-size=\"14.00\" fill=\"#000000\">3</text>\n<text text-anchor=\"start\" x=\"306.5\" y=\"-238.8\" font-family=\"Helvetica,sans-Serif\" font-size=\"14.00\" fill=\"#000000\"> ≤ &#45;0.889</text>\n<text text-anchor=\"start\" x=\"288.5\" y=\"-224.8\" font-family=\"Helvetica,sans-Serif\" font-size=\"14.00\" fill=\"#000000\">gini = 0.375</text>\n<text text-anchor=\"start\" x=\"282.5\" y=\"-210.8\" font-family=\"Helvetica,sans-Serif\" font-size=\"14.00\" fill=\"#000000\">samples = 16</text>\n<text text-anchor=\"start\" x=\"273\" y=\"-196.8\" font-family=\"Helvetica,sans-Serif\" font-size=\"14.00\" fill=\"#000000\">value = [4, 12, 0]</text>\n</g>\n<!-- 7&#45;&gt;11 -->\n<g id=\"edge11\" class=\"edge\">\n<title>7&#45;&gt;11</title>\n<path fill=\"none\" stroke=\"#000000\" d=\"M303.445,-288.8089C306.2659,-280.5122 309.3426,-271.4628 312.3028,-262.7565\"/>\n<polygon fill=\"#000000\" stroke=\"#000000\" points=\"315.6702,-263.7252 315.5755,-253.1308 309.0427,-261.4718 315.6702,-263.7252\"/>\n</g>\n<!-- 9 -->\n<g id=\"node10\" class=\"node\">\n<title>9</title>\n<path fill=\"#a06aec\" stroke=\"#000000\" d=\"M103,-147.5C103,-147.5 12,-147.5 12,-147.5 6,-147.5 0,-141.5 0,-135.5 0,-135.5 0,-106.5 0,-106.5 0,-100.5 6,-94.5 12,-94.5 12,-94.5 103,-94.5 103,-94.5 109,-94.5 115,-100.5 115,-106.5 115,-106.5 115,-135.5 115,-135.5 115,-141.5 109,-147.5 103,-147.5\"/>\n<text text-anchor=\"start\" x=\"24\" y=\"-132.3\" font-family=\"Helvetica,sans-Serif\" font-size=\"14.00\" fill=\"#000000\">gini = 0.32</text>\n<text text-anchor=\"start\" x=\"18\" y=\"-117.3\" font-family=\"Helvetica,sans-Serif\" font-size=\"14.00\" fill=\"#000000\">samples = 5</text>\n<text text-anchor=\"start\" x=\"8\" y=\"-102.3\" font-family=\"Helvetica,sans-Serif\" font-size=\"14.00\" fill=\"#000000\">value = [1, 0, 4]</text>\n</g>\n<!-- 8&#45;&gt;9 -->\n<g id=\"edge9\" class=\"edge\">\n<title>8&#45;&gt;9</title>\n<path fill=\"none\" stroke=\"#000000\" d=\"M147.0078,-188.8089C132.2547,-177.6324 115.6991,-165.0902 100.8756,-153.8603\"/>\n<polygon fill=\"#000000\" stroke=\"#000000\" points=\"102.9255,-151.0223 92.841,-147.7735 98.6985,-156.602 102.9255,-151.0223\"/>\n</g>\n<!-- 10 -->\n<g id=\"node11\" class=\"node\">\n<title>10</title>\n<path fill=\"#b0f5cd\" stroke=\"#000000\" d=\"M236,-147.5C236,-147.5 145,-147.5 145,-147.5 139,-147.5 133,-141.5 133,-135.5 133,-135.5 133,-106.5 133,-106.5 133,-100.5 139,-94.5 145,-94.5 145,-94.5 236,-94.5 236,-94.5 242,-94.5 248,-100.5 248,-106.5 248,-106.5 248,-135.5 248,-135.5 248,-141.5 242,-147.5 236,-147.5\"/>\n<text text-anchor=\"start\" x=\"152.5\" y=\"-132.3\" font-family=\"Helvetica,sans-Serif\" font-size=\"14.00\" fill=\"#000000\">gini = 0.571</text>\n<text text-anchor=\"start\" x=\"151\" y=\"-117.3\" font-family=\"Helvetica,sans-Serif\" font-size=\"14.00\" fill=\"#000000\">samples = 7</text>\n<text text-anchor=\"start\" x=\"141\" y=\"-102.3\" font-family=\"Helvetica,sans-Serif\" font-size=\"14.00\" fill=\"#000000\">value = [1, 4, 2]</text>\n</g>\n<!-- 8&#45;&gt;10 -->\n<g id=\"edge10\" class=\"edge\">\n<title>8&#45;&gt;10</title>\n<path fill=\"none\" stroke=\"#000000\" d=\"M189.8219,-188.8089C189.9202,-178.9777 190.0291,-168.0898 190.1303,-157.9679\"/>\n<polygon fill=\"#000000\" stroke=\"#000000\" points=\"193.632,-157.8081 190.2323,-147.7735 186.6323,-157.738 193.632,-157.8081\"/>\n</g>\n<!-- 12 -->\n<g id=\"node13\" class=\"node\">\n<title>12</title>\n<path fill=\"#eeab7b\" stroke=\"#000000\" d=\"M371,-147.5C371,-147.5 280,-147.5 280,-147.5 274,-147.5 268,-141.5 268,-135.5 268,-135.5 268,-106.5 268,-106.5 268,-100.5 274,-94.5 280,-94.5 280,-94.5 371,-94.5 371,-94.5 377,-94.5 383,-100.5 383,-106.5 383,-106.5 383,-135.5 383,-135.5 383,-141.5 377,-147.5 371,-147.5\"/>\n<text text-anchor=\"start\" x=\"287.5\" y=\"-132.3\" font-family=\"Helvetica,sans-Serif\" font-size=\"14.00\" fill=\"#000000\">gini = 0.375</text>\n<text text-anchor=\"start\" x=\"286\" y=\"-117.3\" font-family=\"Helvetica,sans-Serif\" font-size=\"14.00\" fill=\"#000000\">samples = 4</text>\n<text text-anchor=\"start\" x=\"276\" y=\"-102.3\" font-family=\"Helvetica,sans-Serif\" font-size=\"14.00\" fill=\"#000000\">value = [3, 1, 0]</text>\n</g>\n<!-- 11&#45;&gt;12 -->\n<g id=\"edge12\" class=\"edge\">\n<title>11&#45;&gt;12</title>\n<path fill=\"none\" stroke=\"#000000\" d=\"M326.1781,-188.8089C326.0798,-178.9777 325.9709,-168.0898 325.8697,-157.9679\"/>\n<polygon fill=\"#000000\" stroke=\"#000000\" points=\"329.3677,-157.738 325.7677,-147.7735 322.368,-157.8081 329.3677,-157.738\"/>\n</g>\n<!-- 13 -->\n<g id=\"node14\" class=\"node\">\n<title>13</title>\n<path fill=\"#4be78c\" stroke=\"#000000\" d=\"M512,-153C512,-153 413,-153 413,-153 407,-153 401,-147 401,-141 401,-141 401,-101 401,-101 401,-95 407,-89 413,-89 413,-89 512,-89 512,-89 518,-89 524,-95 524,-101 524,-101 524,-141 524,-141 524,-147 518,-153 512,-153\"/>\n<text text-anchor=\"start\" x=\"425.5\" y=\"-138.8\" font-family=\"Helvetica,sans-Serif\" font-size=\"14.00\" fill=\"#000000\">X</text>\n<text text-anchor=\"start\" x=\"435.5\" y=\"-138.8\" font-family=\"Helvetica,sans-Serif\" baseline-shift=\"sub\" font-size=\"14.00\" fill=\"#000000\">6</text>\n<text text-anchor=\"start\" x=\"442.5\" y=\"-138.8\" font-family=\"Helvetica,sans-Serif\" font-size=\"14.00\" fill=\"#000000\"> ≤ &#45;1.333</text>\n<text text-anchor=\"start\" x=\"424.5\" y=\"-124.8\" font-family=\"Helvetica,sans-Serif\" font-size=\"14.00\" fill=\"#000000\">gini = 0.153</text>\n<text text-anchor=\"start\" x=\"418.5\" y=\"-110.8\" font-family=\"Helvetica,sans-Serif\" font-size=\"14.00\" fill=\"#000000\">samples = 12</text>\n<text text-anchor=\"start\" x=\"409\" y=\"-96.8\" font-family=\"Helvetica,sans-Serif\" font-size=\"14.00\" fill=\"#000000\">value = [1, 11, 0]</text>\n</g>\n<!-- 11&#45;&gt;13 -->\n<g id=\"edge13\" class=\"edge\">\n<title>11&#45;&gt;13</title>\n<path fill=\"none\" stroke=\"#000000\" d=\"M370.2799,-188.8089C383.1407,-179.3524 397.3312,-168.9182 410.6453,-159.1285\"/>\n<polygon fill=\"#000000\" stroke=\"#000000\" points=\"412.819,-161.8745 418.8022,-153.1308 408.6723,-156.2349 412.819,-161.8745\"/>\n</g>\n<!-- 14 -->\n<g id=\"node15\" class=\"node\">\n<title>14</title>\n<path fill=\"#9cf2c0\" stroke=\"#000000\" d=\"M441,-53C441,-53 350,-53 350,-53 344,-53 338,-47 338,-41 338,-41 338,-12 338,-12 338,-6 344,0 350,0 350,0 441,0 441,0 447,0 453,-6 453,-12 453,-12 453,-41 453,-41 453,-47 447,-53 441,-53\"/>\n<text text-anchor=\"start\" x=\"357.5\" y=\"-37.8\" font-family=\"Helvetica,sans-Serif\" font-size=\"14.00\" fill=\"#000000\">gini = 0.444</text>\n<text text-anchor=\"start\" x=\"356\" y=\"-22.8\" font-family=\"Helvetica,sans-Serif\" font-size=\"14.00\" fill=\"#000000\">samples = 3</text>\n<text text-anchor=\"start\" x=\"346\" y=\"-7.8\" font-family=\"Helvetica,sans-Serif\" font-size=\"14.00\" fill=\"#000000\">value = [1, 2, 0]</text>\n</g>\n<!-- 13&#45;&gt;14 -->\n<g id=\"edge14\" class=\"edge\">\n<title>13&#45;&gt;14</title>\n<path fill=\"none\" stroke=\"#000000\" d=\"M439.6298,-88.7428C433.4246,-79.9906 426.6765,-70.4728 420.3669,-61.5735\"/>\n<polygon fill=\"#000000\" stroke=\"#000000\" points=\"423.123,-59.4093 414.4839,-53.2759 417.4126,-63.4579 423.123,-59.4093\"/>\n</g>\n<!-- 15 -->\n<g id=\"node16\" class=\"node\">\n<title>15</title>\n<path fill=\"#39e581\" stroke=\"#000000\" d=\"M574,-53C574,-53 483,-53 483,-53 477,-53 471,-47 471,-41 471,-41 471,-12 471,-12 471,-6 477,0 483,0 483,0 574,0 574,0 580,0 586,-6 586,-12 586,-12 586,-41 586,-41 586,-47 580,-53 574,-53\"/>\n<text text-anchor=\"start\" x=\"499\" y=\"-37.8\" font-family=\"Helvetica,sans-Serif\" font-size=\"14.00\" fill=\"#000000\">gini = 0.0</text>\n<text text-anchor=\"start\" x=\"489\" y=\"-22.8\" font-family=\"Helvetica,sans-Serif\" font-size=\"14.00\" fill=\"#000000\">samples = 9</text>\n<text text-anchor=\"start\" x=\"479\" y=\"-7.8\" font-family=\"Helvetica,sans-Serif\" font-size=\"14.00\" fill=\"#000000\">value = [0, 9, 0]</text>\n</g>\n<!-- 13&#45;&gt;15 -->\n<g id=\"edge15\" class=\"edge\">\n<title>13&#45;&gt;15</title>\n<path fill=\"none\" stroke=\"#000000\" d=\"M485.0289,-88.7428C491.1415,-79.9906 497.7888,-70.4728 504.0042,-61.5735\"/>\n<polygon fill=\"#000000\" stroke=\"#000000\" points=\"506.9429,-63.4784 509.7994,-53.2759 501.204,-59.4702 506.9429,-63.4784\"/>\n</g>\n<!-- 17 -->\n<g id=\"node18\" class=\"node\">\n<title>17</title>\n<path fill=\"#e0cef8\" stroke=\"#000000\" d=\"M475,-347.5C475,-347.5 384,-347.5 384,-347.5 378,-347.5 372,-341.5 372,-335.5 372,-335.5 372,-306.5 372,-306.5 372,-300.5 378,-294.5 384,-294.5 384,-294.5 475,-294.5 475,-294.5 481,-294.5 487,-300.5 487,-306.5 487,-306.5 487,-335.5 487,-335.5 487,-341.5 481,-347.5 475,-347.5\"/>\n<text text-anchor=\"start\" x=\"391.5\" y=\"-332.3\" font-family=\"Helvetica,sans-Serif\" font-size=\"14.00\" fill=\"#000000\">gini = 0.611</text>\n<text text-anchor=\"start\" x=\"390\" y=\"-317.3\" font-family=\"Helvetica,sans-Serif\" font-size=\"14.00\" fill=\"#000000\">samples = 6</text>\n<text text-anchor=\"start\" x=\"380\" y=\"-302.3\" font-family=\"Helvetica,sans-Serif\" font-size=\"14.00\" fill=\"#000000\">value = [2, 1, 3]</text>\n</g>\n<!-- 16&#45;&gt;17 -->\n<g id=\"edge17\" class=\"edge\">\n<title>16&#45;&gt;17</title>\n<path fill=\"none\" stroke=\"#000000\" d=\"M475.6101,-388.8089C468.5026,-378.3568 460.583,-366.7103 453.3406,-356.0597\"/>\n<polygon fill=\"#000000\" stroke=\"#000000\" points=\"456.2234,-354.0747 447.706,-347.7735 450.4349,-358.0109 456.2234,-354.0747\"/>\n</g>\n<!-- 18 -->\n<g id=\"node19\" class=\"node\">\n<title>18</title>\n<path fill=\"#8139e5\" stroke=\"#000000\" d=\"M608,-347.5C608,-347.5 517,-347.5 517,-347.5 511,-347.5 505,-341.5 505,-335.5 505,-335.5 505,-306.5 505,-306.5 505,-300.5 511,-294.5 517,-294.5 517,-294.5 608,-294.5 608,-294.5 614,-294.5 620,-300.5 620,-306.5 620,-306.5 620,-335.5 620,-335.5 620,-341.5 614,-347.5 608,-347.5\"/>\n<text text-anchor=\"start\" x=\"533\" y=\"-332.3\" font-family=\"Helvetica,sans-Serif\" font-size=\"14.00\" fill=\"#000000\">gini = 0.0</text>\n<text text-anchor=\"start\" x=\"523\" y=\"-317.3\" font-family=\"Helvetica,sans-Serif\" font-size=\"14.00\" fill=\"#000000\">samples = 5</text>\n<text text-anchor=\"start\" x=\"513\" y=\"-302.3\" font-family=\"Helvetica,sans-Serif\" font-size=\"14.00\" fill=\"#000000\">value = [0, 0, 5]</text>\n</g>\n<!-- 16&#45;&gt;18 -->\n<g id=\"edge18\" class=\"edge\">\n<title>16&#45;&gt;18</title>\n<path fill=\"none\" stroke=\"#000000\" d=\"M518.4242,-388.8089C525.1508,-378.4603 532.6385,-366.9408 539.5054,-356.3764\"/>\n<polygon fill=\"#000000\" stroke=\"#000000\" points=\"542.5818,-358.0654 545.0972,-347.7735 536.7127,-354.2505 542.5818,-358.0654\"/>\n</g>\n<!-- 20 -->\n<g id=\"node21\" class=\"node\">\n<title>20</title>\n<path fill=\"#e99457\" stroke=\"#000000\" d=\"M876,-453C876,-453 777,-453 777,-453 771,-453 765,-447 765,-441 765,-441 765,-401 765,-401 765,-395 771,-389 777,-389 777,-389 876,-389 876,-389 882,-389 888,-395 888,-401 888,-401 888,-441 888,-441 888,-447 882,-453 876,-453\"/>\n<text text-anchor=\"start\" x=\"789.5\" y=\"-438.8\" font-family=\"Helvetica,sans-Serif\" font-size=\"14.00\" fill=\"#000000\">X</text>\n<text text-anchor=\"start\" x=\"799.5\" y=\"-438.8\" font-family=\"Helvetica,sans-Serif\" baseline-shift=\"sub\" font-size=\"14.00\" fill=\"#000000\">1</text>\n<text text-anchor=\"start\" x=\"806.5\" y=\"-438.8\" font-family=\"Helvetica,sans-Serif\" font-size=\"14.00\" fill=\"#000000\"> ≤ &#45;0.002</text>\n<text text-anchor=\"start\" x=\"788.5\" y=\"-424.8\" font-family=\"Helvetica,sans-Serif\" font-size=\"14.00\" fill=\"#000000\">gini = 0.252</text>\n<text text-anchor=\"start\" x=\"782.5\" y=\"-410.8\" font-family=\"Helvetica,sans-Serif\" font-size=\"14.00\" fill=\"#000000\">samples = 71</text>\n<text text-anchor=\"start\" x=\"773\" y=\"-396.8\" font-family=\"Helvetica,sans-Serif\" font-size=\"14.00\" fill=\"#000000\">value = [61, 5, 5]</text>\n</g>\n<!-- 19&#45;&gt;20 -->\n<g id=\"edge20\" class=\"edge\">\n<title>19&#45;&gt;20</title>\n<path fill=\"none\" stroke=\"#000000\" d=\"M829.8904,-488.8089C829.4845,-480.6906 829.0426,-471.8517 828.6159,-463.3186\"/>\n<polygon fill=\"#000000\" stroke=\"#000000\" points=\"832.1016,-462.9435 828.1065,-453.1308 825.1104,-463.2931 832.1016,-462.9435\"/>\n</g>\n<!-- 31 -->\n<g id=\"node32\" class=\"node\">\n<title>31</title>\n<path fill=\"#f4caac\" stroke=\"#000000\" d=\"M1025,-453C1025,-453 918,-453 918,-453 912,-453 906,-447 906,-441 906,-441 906,-401 906,-401 906,-395 912,-389 918,-389 918,-389 1025,-389 1025,-389 1031,-389 1037,-395 1037,-401 1037,-401 1037,-441 1037,-441 1037,-447 1031,-453 1025,-453\"/>\n<text text-anchor=\"start\" x=\"934.5\" y=\"-438.8\" font-family=\"Helvetica,sans-Serif\" font-size=\"14.00\" fill=\"#000000\">X</text>\n<text text-anchor=\"start\" x=\"944.5\" y=\"-438.8\" font-family=\"Helvetica,sans-Serif\" baseline-shift=\"sub\" font-size=\"14.00\" fill=\"#000000\">2</text>\n<text text-anchor=\"start\" x=\"951.5\" y=\"-438.8\" font-family=\"Helvetica,sans-Serif\" font-size=\"14.00\" fill=\"#000000\"> ≤ &#45;0.448</text>\n<text text-anchor=\"start\" x=\"933.5\" y=\"-424.8\" font-family=\"Helvetica,sans-Serif\" font-size=\"14.00\" fill=\"#000000\">gini = 0.464</text>\n<text text-anchor=\"start\" x=\"927.5\" y=\"-410.8\" font-family=\"Helvetica,sans-Serif\" font-size=\"14.00\" fill=\"#000000\">samples = 30</text>\n<text text-anchor=\"start\" x=\"914\" y=\"-396.8\" font-family=\"Helvetica,sans-Serif\" font-size=\"14.00\" fill=\"#000000\">value = [19, 11, 0]</text>\n</g>\n<!-- 19&#45;&gt;31 -->\n<g id=\"edge31\" class=\"edge\">\n<title>19&#45;&gt;31</title>\n<path fill=\"none\" stroke=\"#000000\" d=\"M876.5675,-488.8089C889.8067,-479.3524 904.4145,-468.9182 918.1201,-459.1285\"/>\n<polygon fill=\"#000000\" stroke=\"#000000\" points=\"920.4139,-461.7913 926.5169,-453.1308 916.3452,-456.0951 920.4139,-461.7913\"/>\n</g>\n<!-- 21 -->\n<g id=\"node22\" class=\"node\">\n<title>21</title>\n<path fill=\"#e78c4b\" stroke=\"#000000\" d=\"M749,-353C749,-353 650,-353 650,-353 644,-353 638,-347 638,-341 638,-341 638,-301 638,-301 638,-295 644,-289 650,-289 650,-289 749,-289 749,-289 755,-289 761,-295 761,-301 761,-301 761,-341 761,-341 761,-347 755,-353 749,-353\"/>\n<text text-anchor=\"start\" x=\"662.5\" y=\"-338.8\" font-family=\"Helvetica,sans-Serif\" font-size=\"14.00\" fill=\"#000000\">X</text>\n<text text-anchor=\"start\" x=\"672.5\" y=\"-338.8\" font-family=\"Helvetica,sans-Serif\" baseline-shift=\"sub\" font-size=\"14.00\" fill=\"#000000\">6</text>\n<text text-anchor=\"start\" x=\"679.5\" y=\"-338.8\" font-family=\"Helvetica,sans-Serif\" font-size=\"14.00\" fill=\"#000000\"> ≤ &#45;1.333</text>\n<text text-anchor=\"start\" x=\"661.5\" y=\"-324.8\" font-family=\"Helvetica,sans-Serif\" font-size=\"14.00\" fill=\"#000000\">gini = 0.155</text>\n<text text-anchor=\"start\" x=\"655.5\" y=\"-310.8\" font-family=\"Helvetica,sans-Serif\" font-size=\"14.00\" fill=\"#000000\">samples = 60</text>\n<text text-anchor=\"start\" x=\"646\" y=\"-296.8\" font-family=\"Helvetica,sans-Serif\" font-size=\"14.00\" fill=\"#000000\">value = [55, 4, 1]</text>\n</g>\n<!-- 20&#45;&gt;21 -->\n<g id=\"edge21\" class=\"edge\">\n<title>20&#45;&gt;21</title>\n<path fill=\"none\" stroke=\"#000000\" d=\"M785.6173,-388.8089C773.7208,-379.4416 760.6061,-369.115 748.2753,-359.4057\"/>\n<polygon fill=\"#000000\" stroke=\"#000000\" points=\"750.3281,-356.5673 740.3061,-353.1308 745.9976,-362.0671 750.3281,-356.5673\"/>\n</g>\n<!-- 28 -->\n<g id=\"node29\" class=\"node\">\n<title>28</title>\n<path fill=\"#f8dbc6\" stroke=\"#000000\" d=\"M882,-353C882,-353 791,-353 791,-353 785,-353 779,-347 779,-341 779,-341 779,-301 779,-301 779,-295 785,-289 791,-289 791,-289 882,-289 882,-289 888,-289 894,-295 894,-301 894,-301 894,-341 894,-341 894,-347 888,-353 882,-353\"/>\n<text text-anchor=\"start\" x=\"799.5\" y=\"-338.8\" font-family=\"Helvetica,sans-Serif\" font-size=\"14.00\" fill=\"#000000\">X</text>\n<text text-anchor=\"start\" x=\"809.5\" y=\"-338.8\" font-family=\"Helvetica,sans-Serif\" baseline-shift=\"sub\" font-size=\"14.00\" fill=\"#000000\">2</text>\n<text text-anchor=\"start\" x=\"816.5\" y=\"-338.8\" font-family=\"Helvetica,sans-Serif\" font-size=\"14.00\" fill=\"#000000\"> ≤ &#45;0.595</text>\n<text text-anchor=\"start\" x=\"798.5\" y=\"-324.8\" font-family=\"Helvetica,sans-Serif\" font-size=\"14.00\" fill=\"#000000\">gini = 0.562</text>\n<text text-anchor=\"start\" x=\"792.5\" y=\"-310.8\" font-family=\"Helvetica,sans-Serif\" font-size=\"14.00\" fill=\"#000000\">samples = 11</text>\n<text text-anchor=\"start\" x=\"787\" y=\"-296.8\" font-family=\"Helvetica,sans-Serif\" font-size=\"14.00\" fill=\"#000000\">value = [6, 1, 4]</text>\n</g>\n<!-- 20&#45;&gt;28 -->\n<g id=\"edge28\" class=\"edge\">\n<title>20&#45;&gt;28</title>\n<path fill=\"none\" stroke=\"#000000\" d=\"M829.7191,-388.8089C830.5309,-380.6906 831.4148,-371.8517 832.2681,-363.3186\"/>\n<polygon fill=\"#000000\" stroke=\"#000000\" points=\"835.7744,-363.4294 833.2869,-353.1308 828.8092,-362.7328 835.7744,-363.4294\"/>\n</g>\n<!-- 22 -->\n<g id=\"node23\" class=\"node\">\n<title>22</title>\n<path fill=\"#f2c09c\" stroke=\"#000000\" d=\"M608,-247.5C608,-247.5 517,-247.5 517,-247.5 511,-247.5 505,-241.5 505,-235.5 505,-235.5 505,-206.5 505,-206.5 505,-200.5 511,-194.5 517,-194.5 517,-194.5 608,-194.5 608,-194.5 614,-194.5 620,-200.5 620,-206.5 620,-206.5 620,-235.5 620,-235.5 620,-241.5 614,-247.5 608,-247.5\"/>\n<text text-anchor=\"start\" x=\"524.5\" y=\"-232.3\" font-family=\"Helvetica,sans-Serif\" font-size=\"14.00\" fill=\"#000000\">gini = 0.531</text>\n<text text-anchor=\"start\" x=\"523\" y=\"-217.3\" font-family=\"Helvetica,sans-Serif\" font-size=\"14.00\" fill=\"#000000\">samples = 8</text>\n<text text-anchor=\"start\" x=\"513\" y=\"-202.3\" font-family=\"Helvetica,sans-Serif\" font-size=\"14.00\" fill=\"#000000\">value = [5, 2, 1]</text>\n</g>\n<!-- 21&#45;&gt;22 -->\n<g id=\"edge22\" class=\"edge\">\n<title>21&#45;&gt;22</title>\n<path fill=\"none\" stroke=\"#000000\" d=\"M655.3982,-288.8089C640.0864,-277.6324 622.9036,-265.0902 607.5186,-253.8603\"/>\n<polygon fill=\"#000000\" stroke=\"#000000\" points=\"609.3204,-250.8423 599.1797,-247.7735 605.1934,-256.4963 609.3204,-250.8423\"/>\n</g>\n<!-- 23 -->\n<g id=\"node24\" class=\"node\">\n<title>23</title>\n<path fill=\"#e68641\" stroke=\"#000000\" d=\"M749,-253C749,-253 650,-253 650,-253 644,-253 638,-247 638,-241 638,-241 638,-201 638,-201 638,-195 644,-189 650,-189 650,-189 749,-189 749,-189 755,-189 761,-195 761,-201 761,-201 761,-241 761,-241 761,-247 755,-253 749,-253\"/>\n<text text-anchor=\"start\" x=\"662.5\" y=\"-238.8\" font-family=\"Helvetica,sans-Serif\" font-size=\"14.00\" fill=\"#000000\">X</text>\n<text text-anchor=\"start\" x=\"672.5\" y=\"-238.8\" font-family=\"Helvetica,sans-Serif\" baseline-shift=\"sub\" font-size=\"14.00\" fill=\"#000000\">2</text>\n<text text-anchor=\"start\" x=\"679.5\" y=\"-238.8\" font-family=\"Helvetica,sans-Serif\" font-size=\"14.00\" fill=\"#000000\"> ≤ &#45;0.655</text>\n<text text-anchor=\"start\" x=\"661.5\" y=\"-224.8\" font-family=\"Helvetica,sans-Serif\" font-size=\"14.00\" fill=\"#000000\">gini = 0.074</text>\n<text text-anchor=\"start\" x=\"655.5\" y=\"-210.8\" font-family=\"Helvetica,sans-Serif\" font-size=\"14.00\" fill=\"#000000\">samples = 52</text>\n<text text-anchor=\"start\" x=\"646\" y=\"-196.8\" font-family=\"Helvetica,sans-Serif\" font-size=\"14.00\" fill=\"#000000\">value = [50, 2, 0]</text>\n</g>\n<!-- 21&#45;&gt;23 -->\n<g id=\"edge23\" class=\"edge\">\n<title>21&#45;&gt;23</title>\n<path fill=\"none\" stroke=\"#000000\" d=\"M699.5,-288.8089C699.5,-280.6906 699.5,-271.8517 699.5,-263.3186\"/>\n<polygon fill=\"#000000\" stroke=\"#000000\" points=\"703.0001,-263.1307 699.5,-253.1308 696.0001,-263.1308 703.0001,-263.1307\"/>\n</g>\n<!-- 24 -->\n<g id=\"node25\" class=\"node\">\n<title>24</title>\n<path fill=\"#e9965a\" stroke=\"#000000\" d=\"M711,-147.5C711,-147.5 620,-147.5 620,-147.5 614,-147.5 608,-141.5 608,-135.5 608,-135.5 608,-106.5 608,-106.5 608,-100.5 614,-94.5 620,-94.5 620,-94.5 711,-94.5 711,-94.5 717,-94.5 723,-100.5 723,-106.5 723,-106.5 723,-135.5 723,-135.5 723,-141.5 717,-147.5 711,-147.5\"/>\n<text text-anchor=\"start\" x=\"627.5\" y=\"-132.3\" font-family=\"Helvetica,sans-Serif\" font-size=\"14.00\" fill=\"#000000\">gini = 0.245</text>\n<text text-anchor=\"start\" x=\"626\" y=\"-117.3\" font-family=\"Helvetica,sans-Serif\" font-size=\"14.00\" fill=\"#000000\">samples = 7</text>\n<text text-anchor=\"start\" x=\"616\" y=\"-102.3\" font-family=\"Helvetica,sans-Serif\" font-size=\"14.00\" fill=\"#000000\">value = [6, 1, 0]</text>\n</g>\n<!-- 23&#45;&gt;24 -->\n<g id=\"edge24\" class=\"edge\">\n<title>23&#45;&gt;24</title>\n<path fill=\"none\" stroke=\"#000000\" d=\"M688.555,-188.8089C685.142,-178.7707 681.3545,-167.6309 677.8521,-157.3297\"/>\n<polygon fill=\"#000000\" stroke=\"#000000\" points=\"681.1358,-156.1146 674.603,-147.7735 674.5084,-158.3679 681.1358,-156.1146\"/>\n</g>\n<!-- 25 -->\n<g id=\"node26\" class=\"node\">\n<title>25</title>\n<path fill=\"#e6843d\" stroke=\"#000000\" d=\"M852,-153C852,-153 753,-153 753,-153 747,-153 741,-147 741,-141 741,-141 741,-101 741,-101 741,-95 747,-89 753,-89 753,-89 852,-89 852,-89 858,-89 864,-95 864,-101 864,-101 864,-141 864,-141 864,-147 858,-153 852,-153\"/>\n<text text-anchor=\"start\" x=\"765.5\" y=\"-138.8\" font-family=\"Helvetica,sans-Serif\" font-size=\"14.00\" fill=\"#000000\">X</text>\n<text text-anchor=\"start\" x=\"775.5\" y=\"-138.8\" font-family=\"Helvetica,sans-Serif\" baseline-shift=\"sub\" font-size=\"14.00\" fill=\"#000000\">3</text>\n<text text-anchor=\"start\" x=\"782.5\" y=\"-138.8\" font-family=\"Helvetica,sans-Serif\" font-size=\"14.00\" fill=\"#000000\"> ≤ &#45;0.506</text>\n<text text-anchor=\"start\" x=\"764.5\" y=\"-124.8\" font-family=\"Helvetica,sans-Serif\" font-size=\"14.00\" fill=\"#000000\">gini = 0.043</text>\n<text text-anchor=\"start\" x=\"758.5\" y=\"-110.8\" font-family=\"Helvetica,sans-Serif\" font-size=\"14.00\" fill=\"#000000\">samples = 45</text>\n<text text-anchor=\"start\" x=\"749\" y=\"-96.8\" font-family=\"Helvetica,sans-Serif\" font-size=\"14.00\" fill=\"#000000\">value = [44, 1, 0]</text>\n</g>\n<!-- 23&#45;&gt;25 -->\n<g id=\"edge25\" class=\"edge\">\n<title>23&#45;&gt;25</title>\n<path fill=\"none\" stroke=\"#000000\" d=\"M732.6568,-188.8089C742.0295,-179.7092 752.3346,-169.7043 762.0834,-160.2394\"/>\n<polygon fill=\"#000000\" stroke=\"#000000\" points=\"764.6686,-162.6078 769.4053,-153.1308 759.7925,-157.5854 764.6686,-162.6078\"/>\n</g>\n<!-- 26 -->\n<g id=\"node27\" class=\"node\">\n<title>26</title>\n<path fill=\"#e58139\" stroke=\"#000000\" d=\"M843,-53C843,-53 744,-53 744,-53 738,-53 732,-47 732,-41 732,-41 732,-12 732,-12 732,-6 738,0 744,0 744,0 843,0 843,0 849,0 855,-6 855,-12 855,-12 855,-41 855,-41 855,-47 849,-53 843,-53\"/>\n<text text-anchor=\"start\" x=\"764\" y=\"-37.8\" font-family=\"Helvetica,sans-Serif\" font-size=\"14.00\" fill=\"#000000\">gini = 0.0</text>\n<text text-anchor=\"start\" x=\"749.5\" y=\"-22.8\" font-family=\"Helvetica,sans-Serif\" font-size=\"14.00\" fill=\"#000000\">samples = 34</text>\n<text text-anchor=\"start\" x=\"740\" y=\"-7.8\" font-family=\"Helvetica,sans-Serif\" font-size=\"14.00\" fill=\"#000000\">value = [34, 0, 0]</text>\n</g>\n<!-- 25&#45;&gt;26 -->\n<g id=\"edge26\" class=\"edge\">\n<title>25&#45;&gt;26</title>\n<path fill=\"none\" stroke=\"#000000\" d=\"M799.4279,-88.7428C798.6459,-80.532 797.7997,-71.6474 796.9983,-63.2317\"/>\n<polygon fill=\"#000000\" stroke=\"#000000\" points=\"800.4825,-62.899 796.0501,-53.2759 793.514,-63.5627 800.4825,-62.899\"/>\n</g>\n<!-- 27 -->\n<g id=\"node28\" class=\"node\">\n<title>27</title>\n<path fill=\"#e88e4d\" stroke=\"#000000\" d=\"M984,-53C984,-53 885,-53 885,-53 879,-53 873,-47 873,-41 873,-41 873,-12 873,-12 873,-6 879,0 885,0 885,0 984,0 984,0 990,0 996,-6 996,-12 996,-12 996,-41 996,-41 996,-47 990,-53 984,-53\"/>\n<text text-anchor=\"start\" x=\"896.5\" y=\"-37.8\" font-family=\"Helvetica,sans-Serif\" font-size=\"14.00\" fill=\"#000000\">gini = 0.165</text>\n<text text-anchor=\"start\" x=\"890.5\" y=\"-22.8\" font-family=\"Helvetica,sans-Serif\" font-size=\"14.00\" fill=\"#000000\">samples = 11</text>\n<text text-anchor=\"start\" x=\"881\" y=\"-7.8\" font-family=\"Helvetica,sans-Serif\" font-size=\"14.00\" fill=\"#000000\">value = [10, 1, 0]</text>\n</g>\n<!-- 25&#45;&gt;27 -->\n<g id=\"edge27\" class=\"edge\">\n<title>25&#45;&gt;27</title>\n<path fill=\"none\" stroke=\"#000000\" d=\"M847.5577,-88.7428C860.9172,-79.1786 875.5539,-68.7001 888.9447,-59.1135\"/>\n<polygon fill=\"#000000\" stroke=\"#000000\" points=\"891.0051,-61.9429 897.0988,-53.2759 886.9303,-56.2511 891.0051,-61.9429\"/>\n</g>\n<!-- 29 -->\n<g id=\"node30\" class=\"node\">\n<title>29</title>\n<path fill=\"#cdb0f5\" stroke=\"#000000\" d=\"M882,-247.5C882,-247.5 791,-247.5 791,-247.5 785,-247.5 779,-241.5 779,-235.5 779,-235.5 779,-206.5 779,-206.5 779,-200.5 785,-194.5 791,-194.5 791,-194.5 882,-194.5 882,-194.5 888,-194.5 894,-200.5 894,-206.5 894,-206.5 894,-235.5 894,-235.5 894,-241.5 888,-247.5 882,-247.5\"/>\n<text text-anchor=\"start\" x=\"798.5\" y=\"-232.3\" font-family=\"Helvetica,sans-Serif\" font-size=\"14.00\" fill=\"#000000\">gini = 0.571</text>\n<text text-anchor=\"start\" x=\"797\" y=\"-217.3\" font-family=\"Helvetica,sans-Serif\" font-size=\"14.00\" fill=\"#000000\">samples = 7</text>\n<text text-anchor=\"start\" x=\"787\" y=\"-202.3\" font-family=\"Helvetica,sans-Serif\" font-size=\"14.00\" fill=\"#000000\">value = [2, 1, 4]</text>\n</g>\n<!-- 28&#45;&gt;29 -->\n<g id=\"edge29\" class=\"edge\">\n<title>28&#45;&gt;29</title>\n<path fill=\"none\" stroke=\"#000000\" d=\"M836.5,-288.8089C836.5,-278.9777 836.5,-268.0898 836.5,-257.9679\"/>\n<polygon fill=\"#000000\" stroke=\"#000000\" points=\"840.0001,-257.7735 836.5,-247.7735 833.0001,-257.7736 840.0001,-257.7735\"/>\n</g>\n<!-- 30 -->\n<g id=\"node31\" class=\"node\">\n<title>30</title>\n<path fill=\"#e58139\" stroke=\"#000000\" d=\"M1015,-247.5C1015,-247.5 924,-247.5 924,-247.5 918,-247.5 912,-241.5 912,-235.5 912,-235.5 912,-206.5 912,-206.5 912,-200.5 918,-194.5 924,-194.5 924,-194.5 1015,-194.5 1015,-194.5 1021,-194.5 1027,-200.5 1027,-206.5 1027,-206.5 1027,-235.5 1027,-235.5 1027,-241.5 1021,-247.5 1015,-247.5\"/>\n<text text-anchor=\"start\" x=\"940\" y=\"-232.3\" font-family=\"Helvetica,sans-Serif\" font-size=\"14.00\" fill=\"#000000\">gini = 0.0</text>\n<text text-anchor=\"start\" x=\"930\" y=\"-217.3\" font-family=\"Helvetica,sans-Serif\" font-size=\"14.00\" fill=\"#000000\">samples = 4</text>\n<text text-anchor=\"start\" x=\"920\" y=\"-202.3\" font-family=\"Helvetica,sans-Serif\" font-size=\"14.00\" fill=\"#000000\">value = [4, 0, 0]</text>\n</g>\n<!-- 28&#45;&gt;30 -->\n<g id=\"edge30\" class=\"edge\">\n<title>28&#45;&gt;30</title>\n<path fill=\"none\" stroke=\"#000000\" d=\"M879.3141,-288.8089C894.1789,-277.6324 910.86,-265.0902 925.7958,-253.8603\"/>\n<polygon fill=\"#000000\" stroke=\"#000000\" points=\"928.0018,-256.5807 933.8912,-247.7735 923.795,-250.9857 928.0018,-256.5807\"/>\n</g>\n<!-- 32 -->\n<g id=\"node33\" class=\"node\">\n<title>32</title>\n<path fill=\"#39e581\" stroke=\"#000000\" d=\"M1015,-347.5C1015,-347.5 924,-347.5 924,-347.5 918,-347.5 912,-341.5 912,-335.5 912,-335.5 912,-306.5 912,-306.5 912,-300.5 918,-294.5 924,-294.5 924,-294.5 1015,-294.5 1015,-294.5 1021,-294.5 1027,-300.5 1027,-306.5 1027,-306.5 1027,-335.5 1027,-335.5 1027,-341.5 1021,-347.5 1015,-347.5\"/>\n<text text-anchor=\"start\" x=\"940\" y=\"-332.3\" font-family=\"Helvetica,sans-Serif\" font-size=\"14.00\" fill=\"#000000\">gini = 0.0</text>\n<text text-anchor=\"start\" x=\"930\" y=\"-317.3\" font-family=\"Helvetica,sans-Serif\" font-size=\"14.00\" fill=\"#000000\">samples = 5</text>\n<text text-anchor=\"start\" x=\"920\" y=\"-302.3\" font-family=\"Helvetica,sans-Serif\" font-size=\"14.00\" fill=\"#000000\">value = [0, 5, 0]</text>\n</g>\n<!-- 31&#45;&gt;32 -->\n<g id=\"edge32\" class=\"edge\">\n<title>31&#45;&gt;32</title>\n<path fill=\"none\" stroke=\"#000000\" d=\"M970.8562,-388.8089C970.6596,-378.9777 970.4418,-368.0898 970.2394,-357.9679\"/>\n<polygon fill=\"#000000\" stroke=\"#000000\" points=\"973.7348,-357.7015 970.0355,-347.7735 966.7362,-357.8415 973.7348,-357.7015\"/>\n</g>\n<!-- 33 -->\n<g id=\"node34\" class=\"node\">\n<title>33</title>\n<path fill=\"#eda978\" stroke=\"#000000\" d=\"M1156,-353C1156,-353 1057,-353 1057,-353 1051,-353 1045,-347 1045,-341 1045,-341 1045,-301 1045,-301 1045,-295 1051,-289 1057,-289 1057,-289 1156,-289 1156,-289 1162,-289 1168,-295 1168,-301 1168,-301 1168,-341 1168,-341 1168,-347 1162,-353 1156,-353\"/>\n<text text-anchor=\"start\" x=\"1069.5\" y=\"-338.8\" font-family=\"Helvetica,sans-Serif\" font-size=\"14.00\" fill=\"#000000\">X</text>\n<text text-anchor=\"start\" x=\"1079.5\" y=\"-338.8\" font-family=\"Helvetica,sans-Serif\" baseline-shift=\"sub\" font-size=\"14.00\" fill=\"#000000\">3</text>\n<text text-anchor=\"start\" x=\"1086.5\" y=\"-338.8\" font-family=\"Helvetica,sans-Serif\" font-size=\"14.00\" fill=\"#000000\"> ≤ &#45;0.215</text>\n<text text-anchor=\"start\" x=\"1068.5\" y=\"-324.8\" font-family=\"Helvetica,sans-Serif\" font-size=\"14.00\" fill=\"#000000\">gini = 0.365</text>\n<text text-anchor=\"start\" x=\"1062.5\" y=\"-310.8\" font-family=\"Helvetica,sans-Serif\" font-size=\"14.00\" fill=\"#000000\">samples = 25</text>\n<text text-anchor=\"start\" x=\"1053\" y=\"-296.8\" font-family=\"Helvetica,sans-Serif\" font-size=\"14.00\" fill=\"#000000\">value = [19, 6, 0]</text>\n</g>\n<!-- 31&#45;&gt;33 -->\n<g id=\"edge33\" class=\"edge\">\n<title>31&#45;&gt;33</title>\n<path fill=\"none\" stroke=\"#000000\" d=\"M1014.9579,-388.8089C1027.7243,-379.3524 1041.8104,-368.9182 1055.0266,-359.1285\"/>\n<polygon fill=\"#000000\" stroke=\"#000000\" points=\"1057.1712,-361.8955 1063.1235,-353.1308 1053.0046,-356.2706 1057.1712,-361.8955\"/>\n</g>\n<!-- 34 -->\n<g id=\"node35\" class=\"node\">\n<title>34</title>\n<path fill=\"#e58139\" stroke=\"#000000\" d=\"M1156,-247.5C1156,-247.5 1057,-247.5 1057,-247.5 1051,-247.5 1045,-241.5 1045,-235.5 1045,-235.5 1045,-206.5 1045,-206.5 1045,-200.5 1051,-194.5 1057,-194.5 1057,-194.5 1156,-194.5 1156,-194.5 1162,-194.5 1168,-200.5 1168,-206.5 1168,-206.5 1168,-235.5 1168,-235.5 1168,-241.5 1162,-247.5 1156,-247.5\"/>\n<text text-anchor=\"start\" x=\"1077\" y=\"-232.3\" font-family=\"Helvetica,sans-Serif\" font-size=\"14.00\" fill=\"#000000\">gini = 0.0</text>\n<text text-anchor=\"start\" x=\"1062.5\" y=\"-217.3\" font-family=\"Helvetica,sans-Serif\" font-size=\"14.00\" fill=\"#000000\">samples = 10</text>\n<text text-anchor=\"start\" x=\"1053\" y=\"-202.3\" font-family=\"Helvetica,sans-Serif\" font-size=\"14.00\" fill=\"#000000\">value = [10, 0, 0]</text>\n</g>\n<!-- 33&#45;&gt;34 -->\n<g id=\"edge34\" class=\"edge\">\n<title>33&#45;&gt;34</title>\n<path fill=\"none\" stroke=\"#000000\" d=\"M1106.5,-288.8089C1106.5,-278.9777 1106.5,-268.0898 1106.5,-257.9679\"/>\n<polygon fill=\"#000000\" stroke=\"#000000\" points=\"1110.0001,-257.7735 1106.5,-247.7735 1103.0001,-257.7736 1110.0001,-257.7735\"/>\n</g>\n<!-- 35 -->\n<g id=\"node36\" class=\"node\">\n<title>35</title>\n<path fill=\"#f6d5bd\" stroke=\"#000000\" d=\"M1289,-253C1289,-253 1198,-253 1198,-253 1192,-253 1186,-247 1186,-241 1186,-241 1186,-201 1186,-201 1186,-195 1192,-189 1198,-189 1198,-189 1289,-189 1289,-189 1295,-189 1301,-195 1301,-201 1301,-201 1301,-241 1301,-241 1301,-247 1295,-253 1289,-253\"/>\n<text text-anchor=\"start\" x=\"1206.5\" y=\"-238.8\" font-family=\"Helvetica,sans-Serif\" font-size=\"14.00\" fill=\"#000000\">X</text>\n<text text-anchor=\"start\" x=\"1216.5\" y=\"-238.8\" font-family=\"Helvetica,sans-Serif\" baseline-shift=\"sub\" font-size=\"14.00\" fill=\"#000000\">2</text>\n<text text-anchor=\"start\" x=\"1223.5\" y=\"-238.8\" font-family=\"Helvetica,sans-Serif\" font-size=\"14.00\" fill=\"#000000\"> ≤ &#45;0.275</text>\n<text text-anchor=\"start\" x=\"1210\" y=\"-224.8\" font-family=\"Helvetica,sans-Serif\" font-size=\"14.00\" fill=\"#000000\">gini = 0.48</text>\n<text text-anchor=\"start\" x=\"1199.5\" y=\"-210.8\" font-family=\"Helvetica,sans-Serif\" font-size=\"14.00\" fill=\"#000000\">samples = 15</text>\n<text text-anchor=\"start\" x=\"1194\" y=\"-196.8\" font-family=\"Helvetica,sans-Serif\" font-size=\"14.00\" fill=\"#000000\">value = [9, 6, 0]</text>\n</g>\n<!-- 33&#45;&gt;35 -->\n<g id=\"edge35\" class=\"edge\">\n<title>33&#45;&gt;35</title>\n<path fill=\"none\" stroke=\"#000000\" d=\"M1150.6018,-288.8089C1163.5572,-279.3524 1177.852,-268.9182 1191.264,-259.1285\"/>\n<polygon fill=\"#000000\" stroke=\"#000000\" points=\"1193.4672,-261.8535 1199.4809,-253.1308 1189.3402,-256.1995 1193.4672,-261.8535\"/>\n</g>\n<!-- 36 -->\n<g id=\"node37\" class=\"node\">\n<title>36</title>\n<path fill=\"#39e581\" stroke=\"#000000\" d=\"M1174,-147.5C1174,-147.5 1083,-147.5 1083,-147.5 1077,-147.5 1071,-141.5 1071,-135.5 1071,-135.5 1071,-106.5 1071,-106.5 1071,-100.5 1077,-94.5 1083,-94.5 1083,-94.5 1174,-94.5 1174,-94.5 1180,-94.5 1186,-100.5 1186,-106.5 1186,-106.5 1186,-135.5 1186,-135.5 1186,-141.5 1180,-147.5 1174,-147.5\"/>\n<text text-anchor=\"start\" x=\"1099\" y=\"-132.3\" font-family=\"Helvetica,sans-Serif\" font-size=\"14.00\" fill=\"#000000\">gini = 0.0</text>\n<text text-anchor=\"start\" x=\"1089\" y=\"-117.3\" font-family=\"Helvetica,sans-Serif\" font-size=\"14.00\" fill=\"#000000\">samples = 5</text>\n<text text-anchor=\"start\" x=\"1079\" y=\"-102.3\" font-family=\"Helvetica,sans-Serif\" font-size=\"14.00\" fill=\"#000000\">value = [0, 5, 0]</text>\n</g>\n<!-- 35&#45;&gt;36 -->\n<g id=\"edge36\" class=\"edge\">\n<title>35&#45;&gt;36</title>\n<path fill=\"none\" stroke=\"#000000\" d=\"M1206.4803,-188.8089C1193.8652,-177.8393 1179.7374,-165.5543 1167.0084,-154.4855\"/>\n<polygon fill=\"#000000\" stroke=\"#000000\" points=\"1169.1323,-151.6942 1159.2895,-147.7735 1164.539,-156.9765 1169.1323,-151.6942\"/>\n</g>\n<!-- 37 -->\n<g id=\"node38\" class=\"node\">\n<title>37</title>\n<path fill=\"#e88f4f\" stroke=\"#000000\" d=\"M1307,-153C1307,-153 1216,-153 1216,-153 1210,-153 1204,-147 1204,-141 1204,-141 1204,-101 1204,-101 1204,-95 1210,-89 1216,-89 1216,-89 1307,-89 1307,-89 1313,-89 1319,-95 1319,-101 1319,-101 1319,-141 1319,-141 1319,-147 1313,-153 1307,-153\"/>\n<text text-anchor=\"start\" x=\"1227\" y=\"-138.8\" font-family=\"Helvetica,sans-Serif\" font-size=\"14.00\" fill=\"#000000\">X</text>\n<text text-anchor=\"start\" x=\"1237\" y=\"-138.8\" font-family=\"Helvetica,sans-Serif\" baseline-shift=\"sub\" font-size=\"14.00\" fill=\"#000000\">1</text>\n<text text-anchor=\"start\" x=\"1244\" y=\"-138.8\" font-family=\"Helvetica,sans-Serif\" font-size=\"14.00\" fill=\"#000000\"> ≤ 0.409</text>\n<text text-anchor=\"start\" x=\"1228\" y=\"-124.8\" font-family=\"Helvetica,sans-Serif\" font-size=\"14.00\" fill=\"#000000\">gini = 0.18</text>\n<text text-anchor=\"start\" x=\"1217.5\" y=\"-110.8\" font-family=\"Helvetica,sans-Serif\" font-size=\"14.00\" fill=\"#000000\">samples = 10</text>\n<text text-anchor=\"start\" x=\"1212\" y=\"-96.8\" font-family=\"Helvetica,sans-Serif\" font-size=\"14.00\" fill=\"#000000\">value = [9, 1, 0]</text>\n</g>\n<!-- 35&#45;&gt;37 -->\n<g id=\"edge37\" class=\"edge\">\n<title>35&#45;&gt;37</title>\n<path fill=\"none\" stroke=\"#000000\" d=\"M1249.2944,-188.8089C1250.7718,-180.6014 1252.3817,-171.6574 1253.9333,-163.0374\"/>\n<polygon fill=\"#000000\" stroke=\"#000000\" points=\"1257.3895,-163.5927 1255.7165,-153.1308 1250.5002,-162.3525 1257.3895,-163.5927\"/>\n</g>\n<!-- 38 -->\n<g id=\"node39\" class=\"node\">\n<title>38</title>\n<path fill=\"#e58139\" stroke=\"#000000\" d=\"M1183,-53C1183,-53 1092,-53 1092,-53 1086,-53 1080,-47 1080,-41 1080,-41 1080,-12 1080,-12 1080,-6 1086,0 1092,0 1092,0 1183,0 1183,0 1189,0 1195,-6 1195,-12 1195,-12 1195,-41 1195,-41 1195,-47 1189,-53 1183,-53\"/>\n<text text-anchor=\"start\" x=\"1108\" y=\"-37.8\" font-family=\"Helvetica,sans-Serif\" font-size=\"14.00\" fill=\"#000000\">gini = 0.0</text>\n<text text-anchor=\"start\" x=\"1098\" y=\"-22.8\" font-family=\"Helvetica,sans-Serif\" font-size=\"14.00\" fill=\"#000000\">samples = 7</text>\n<text text-anchor=\"start\" x=\"1088\" y=\"-7.8\" font-family=\"Helvetica,sans-Serif\" font-size=\"14.00\" fill=\"#000000\">value = [7, 0, 0]</text>\n</g>\n<!-- 37&#45;&gt;38 -->\n<g id=\"edge38\" class=\"edge\">\n<title>37&#45;&gt;38</title>\n<path fill=\"none\" stroke=\"#000000\" d=\"M1219.1731,-88.7428C1206.7416,-79.2688 1193.1329,-68.8977 1180.6507,-59.385\"/>\n<polygon fill=\"#000000\" stroke=\"#000000\" points=\"1182.7096,-56.5535 1172.6345,-53.2759 1178.4666,-62.1211 1182.7096,-56.5535\"/>\n</g>\n<!-- 39 -->\n<g id=\"node40\" class=\"node\">\n<title>39</title>\n<path fill=\"#f2c09c\" stroke=\"#000000\" d=\"M1316,-53C1316,-53 1225,-53 1225,-53 1219,-53 1213,-47 1213,-41 1213,-41 1213,-12 1213,-12 1213,-6 1219,0 1225,0 1225,0 1316,0 1316,0 1322,0 1328,-6 1328,-12 1328,-12 1328,-41 1328,-41 1328,-47 1322,-53 1316,-53\"/>\n<text text-anchor=\"start\" x=\"1232.5\" y=\"-37.8\" font-family=\"Helvetica,sans-Serif\" font-size=\"14.00\" fill=\"#000000\">gini = 0.444</text>\n<text text-anchor=\"start\" x=\"1231\" y=\"-22.8\" font-family=\"Helvetica,sans-Serif\" font-size=\"14.00\" fill=\"#000000\">samples = 3</text>\n<text text-anchor=\"start\" x=\"1221\" y=\"-7.8\" font-family=\"Helvetica,sans-Serif\" font-size=\"14.00\" fill=\"#000000\">value = [2, 1, 0]</text>\n</g>\n<!-- 37&#45;&gt;39 -->\n<g id=\"edge39\" class=\"edge\">\n<title>37&#45;&gt;39</title>\n<path fill=\"none\" stroke=\"#000000\" d=\"M1264.5721,-88.7428C1265.3541,-80.532 1266.2003,-71.6474 1267.0017,-63.2317\"/>\n<polygon fill=\"#000000\" stroke=\"#000000\" points=\"1270.486,-63.5627 1267.9499,-53.2759 1263.5175,-62.899 1270.486,-63.5627\"/>\n</g>\n<!-- 41 -->\n<g id=\"node42\" class=\"node\">\n<title>41</title>\n<path fill=\"#ab7bee\" stroke=\"#000000\" d=\"M1021,-547.5C1021,-547.5 930,-547.5 930,-547.5 924,-547.5 918,-541.5 918,-535.5 918,-535.5 918,-506.5 918,-506.5 918,-500.5 924,-494.5 930,-494.5 930,-494.5 1021,-494.5 1021,-494.5 1027,-494.5 1033,-500.5 1033,-506.5 1033,-506.5 1033,-535.5 1033,-535.5 1033,-541.5 1027,-547.5 1021,-547.5\"/>\n<text text-anchor=\"start\" x=\"937.5\" y=\"-532.3\" font-family=\"Helvetica,sans-Serif\" font-size=\"14.00\" fill=\"#000000\">gini = 0.449</text>\n<text text-anchor=\"start\" x=\"936\" y=\"-517.3\" font-family=\"Helvetica,sans-Serif\" font-size=\"14.00\" fill=\"#000000\">samples = 7</text>\n<text text-anchor=\"start\" x=\"926\" y=\"-502.3\" font-family=\"Helvetica,sans-Serif\" font-size=\"14.00\" fill=\"#000000\">value = [1, 1, 5]</text>\n</g>\n<!-- 40&#45;&gt;41 -->\n<g id=\"edge41\" class=\"edge\">\n<title>40&#45;&gt;41</title>\n<path fill=\"none\" stroke=\"#000000\" d=\"M997.1989,-588.8089C993.9866,-578.7707 990.4219,-567.6309 987.1255,-557.3297\"/>\n<polygon fill=\"#000000\" stroke=\"#000000\" points=\"990.4488,-556.231 984.0675,-547.7735 983.7819,-558.3645 990.4488,-556.231\"/>\n</g>\n<!-- 42 -->\n<g id=\"node43\" class=\"node\">\n<title>42</title>\n<path fill=\"#8139e5\" stroke=\"#000000\" d=\"M1154,-547.5C1154,-547.5 1063,-547.5 1063,-547.5 1057,-547.5 1051,-541.5 1051,-535.5 1051,-535.5 1051,-506.5 1051,-506.5 1051,-500.5 1057,-494.5 1063,-494.5 1063,-494.5 1154,-494.5 1154,-494.5 1160,-494.5 1166,-500.5 1166,-506.5 1166,-506.5 1166,-535.5 1166,-535.5 1166,-541.5 1160,-547.5 1154,-547.5\"/>\n<text text-anchor=\"start\" x=\"1079\" y=\"-532.3\" font-family=\"Helvetica,sans-Serif\" font-size=\"14.00\" fill=\"#000000\">gini = 0.0</text>\n<text text-anchor=\"start\" x=\"1069\" y=\"-517.3\" font-family=\"Helvetica,sans-Serif\" font-size=\"14.00\" fill=\"#000000\">samples = 7</text>\n<text text-anchor=\"start\" x=\"1059\" y=\"-502.3\" font-family=\"Helvetica,sans-Serif\" font-size=\"14.00\" fill=\"#000000\">value = [0, 0, 7]</text>\n</g>\n<!-- 40&#45;&gt;42 -->\n<g id=\"edge42\" class=\"edge\">\n<title>40&#45;&gt;42</title>\n<path fill=\"none\" stroke=\"#000000\" d=\"M1040.013,-588.8089C1050.8832,-578.0463 1063.0324,-566.0174 1074.0455,-555.1134\"/>\n<polygon fill=\"#000000\" stroke=\"#000000\" points=\"1076.8151,-557.2965 1081.4587,-547.7735 1071.89,-552.3222 1076.8151,-557.2965\"/>\n</g>\n<!-- 44 -->\n<g id=\"node45\" class=\"node\">\n<title>44</title>\n<path fill=\"#ab7bee\" stroke=\"#000000\" d=\"M1222,-647.5C1222,-647.5 1131,-647.5 1131,-647.5 1125,-647.5 1119,-641.5 1119,-635.5 1119,-635.5 1119,-606.5 1119,-606.5 1119,-600.5 1125,-594.5 1131,-594.5 1131,-594.5 1222,-594.5 1222,-594.5 1228,-594.5 1234,-600.5 1234,-606.5 1234,-606.5 1234,-635.5 1234,-635.5 1234,-641.5 1228,-647.5 1222,-647.5\"/>\n<text text-anchor=\"start\" x=\"1138.5\" y=\"-632.3\" font-family=\"Helvetica,sans-Serif\" font-size=\"14.00\" fill=\"#000000\">gini = 0.375</text>\n<text text-anchor=\"start\" x=\"1137\" y=\"-617.3\" font-family=\"Helvetica,sans-Serif\" font-size=\"14.00\" fill=\"#000000\">samples = 8</text>\n<text text-anchor=\"start\" x=\"1127\" y=\"-602.3\" font-family=\"Helvetica,sans-Serif\" font-size=\"14.00\" fill=\"#000000\">value = [0, 2, 6]</text>\n</g>\n<!-- 43&#45;&gt;44 -->\n<g id=\"edge44\" class=\"edge\">\n<title>43&#45;&gt;44</title>\n<path fill=\"none\" stroke=\"#000000\" d=\"M1217.1854,-688.8089C1210.9762,-678.4603 1204.0645,-666.9408 1197.7258,-656.3764\"/>\n<polygon fill=\"#000000\" stroke=\"#000000\" points=\"1200.7103,-654.5477 1192.5641,-647.7735 1194.7079,-658.1492 1200.7103,-654.5477\"/>\n</g>\n<!-- 45 -->\n<g id=\"node46\" class=\"node\">\n<title>45</title>\n<path fill=\"#78eda9\" stroke=\"#000000\" d=\"M1363,-653C1363,-653 1264,-653 1264,-653 1258,-653 1252,-647 1252,-641 1252,-641 1252,-601 1252,-601 1252,-595 1258,-589 1264,-589 1264,-589 1363,-589 1363,-589 1369,-589 1375,-595 1375,-601 1375,-601 1375,-641 1375,-641 1375,-647 1369,-653 1363,-653\"/>\n<text text-anchor=\"start\" x=\"1279\" y=\"-638.8\" font-family=\"Helvetica,sans-Serif\" font-size=\"14.00\" fill=\"#000000\">X</text>\n<text text-anchor=\"start\" x=\"1289\" y=\"-638.8\" font-family=\"Helvetica,sans-Serif\" baseline-shift=\"sub\" font-size=\"14.00\" fill=\"#000000\">6</text>\n<text text-anchor=\"start\" x=\"1296\" y=\"-638.8\" font-family=\"Helvetica,sans-Serif\" font-size=\"14.00\" fill=\"#000000\"> ≤ 0.838</text>\n<text text-anchor=\"start\" x=\"1275.5\" y=\"-624.8\" font-family=\"Helvetica,sans-Serif\" font-size=\"14.00\" fill=\"#000000\">gini = 0.424</text>\n<text text-anchor=\"start\" x=\"1269.5\" y=\"-610.8\" font-family=\"Helvetica,sans-Serif\" font-size=\"14.00\" fill=\"#000000\">samples = 30</text>\n<text text-anchor=\"start\" x=\"1260\" y=\"-596.8\" font-family=\"Helvetica,sans-Serif\" font-size=\"14.00\" fill=\"#000000\">value = [5, 22, 3]</text>\n</g>\n<!-- 43&#45;&gt;45 -->\n<g id=\"edge45\" class=\"edge\">\n<title>43&#45;&gt;45</title>\n<path fill=\"none\" stroke=\"#000000\" d=\"M1261.2871,-688.8089C1268.0878,-679.9769 1275.5451,-670.2921 1282.6415,-661.0759\"/>\n<polygon fill=\"#000000\" stroke=\"#000000\" points=\"1285.4315,-663.1894 1288.7593,-653.1308 1279.8852,-658.9187 1285.4315,-663.1894\"/>\n</g>\n<!-- 46 -->\n<g id=\"node47\" class=\"node\">\n<title>46</title>\n<path fill=\"#57e994\" stroke=\"#000000\" d=\"M1296,-553C1296,-553 1197,-553 1197,-553 1191,-553 1185,-547 1185,-541 1185,-541 1185,-501 1185,-501 1185,-495 1191,-489 1197,-489 1197,-489 1296,-489 1296,-489 1302,-489 1308,-495 1308,-501 1308,-501 1308,-541 1308,-541 1308,-547 1302,-553 1296,-553\"/>\n<text text-anchor=\"start\" x=\"1209.5\" y=\"-538.8\" font-family=\"Helvetica,sans-Serif\" font-size=\"14.00\" fill=\"#000000\">X</text>\n<text text-anchor=\"start\" x=\"1219.5\" y=\"-538.8\" font-family=\"Helvetica,sans-Serif\" baseline-shift=\"sub\" font-size=\"14.00\" fill=\"#000000\">6</text>\n<text text-anchor=\"start\" x=\"1226.5\" y=\"-538.8\" font-family=\"Helvetica,sans-Serif\" font-size=\"14.00\" fill=\"#000000\"> ≤ &#45;1.333</text>\n<text text-anchor=\"start\" x=\"1208.5\" y=\"-524.8\" font-family=\"Helvetica,sans-Serif\" font-size=\"14.00\" fill=\"#000000\">gini = 0.244</text>\n<text text-anchor=\"start\" x=\"1202.5\" y=\"-510.8\" font-family=\"Helvetica,sans-Serif\" font-size=\"14.00\" fill=\"#000000\">samples = 22</text>\n<text text-anchor=\"start\" x=\"1193\" y=\"-496.8\" font-family=\"Helvetica,sans-Serif\" font-size=\"14.00\" fill=\"#000000\">value = [1, 19, 2]</text>\n</g>\n<!-- 45&#45;&gt;46 -->\n<g id=\"edge46\" class=\"edge\">\n<title>45&#45;&gt;46</title>\n<path fill=\"none\" stroke=\"#000000\" d=\"M1291.932,-588.8089C1286.1341,-580.1553 1279.7876,-570.683 1273.7255,-561.635\"/>\n<polygon fill=\"#000000\" stroke=\"#000000\" points=\"1276.5015,-559.4903 1268.0276,-553.1308 1270.6861,-563.3866 1276.5015,-559.4903\"/>\n</g>\n<!-- 51 -->\n<g id=\"node52\" class=\"node\">\n<title>51</title>\n<path fill=\"#fae6d7\" stroke=\"#000000\" d=\"M1429,-547.5C1429,-547.5 1338,-547.5 1338,-547.5 1332,-547.5 1326,-541.5 1326,-535.5 1326,-535.5 1326,-506.5 1326,-506.5 1326,-500.5 1332,-494.5 1338,-494.5 1338,-494.5 1429,-494.5 1429,-494.5 1435,-494.5 1441,-500.5 1441,-506.5 1441,-506.5 1441,-535.5 1441,-535.5 1441,-541.5 1435,-547.5 1429,-547.5\"/>\n<text text-anchor=\"start\" x=\"1345.5\" y=\"-532.3\" font-family=\"Helvetica,sans-Serif\" font-size=\"14.00\" fill=\"#000000\">gini = 0.594</text>\n<text text-anchor=\"start\" x=\"1344\" y=\"-517.3\" font-family=\"Helvetica,sans-Serif\" font-size=\"14.00\" fill=\"#000000\">samples = 8</text>\n<text text-anchor=\"start\" x=\"1334\" y=\"-502.3\" font-family=\"Helvetica,sans-Serif\" font-size=\"14.00\" fill=\"#000000\">value = [4, 3, 1]</text>\n</g>\n<!-- 45&#45;&gt;51 -->\n<g id=\"edge51\" class=\"edge\">\n<title>45&#45;&gt;51</title>\n<path fill=\"none\" stroke=\"#000000\" d=\"M1336.0338,-588.8089C1343.3503,-578.3568 1351.5028,-566.7103 1358.9582,-556.0597\"/>\n<polygon fill=\"#000000\" stroke=\"#000000\" points=\"1361.8912,-557.973 1364.7585,-547.7735 1356.1566,-553.9587 1361.8912,-557.973\"/>\n</g>\n<!-- 47 -->\n<g id=\"node48\" class=\"node\">\n<title>47</title>\n<path fill=\"#c09cf2\" stroke=\"#000000\" d=\"M1223,-447.5C1223,-447.5 1132,-447.5 1132,-447.5 1126,-447.5 1120,-441.5 1120,-435.5 1120,-435.5 1120,-406.5 1120,-406.5 1120,-400.5 1126,-394.5 1132,-394.5 1132,-394.5 1223,-394.5 1223,-394.5 1229,-394.5 1235,-400.5 1235,-406.5 1235,-406.5 1235,-435.5 1235,-435.5 1235,-441.5 1229,-447.5 1223,-447.5\"/>\n<text text-anchor=\"start\" x=\"1139.5\" y=\"-432.3\" font-family=\"Helvetica,sans-Serif\" font-size=\"14.00\" fill=\"#000000\">gini = 0.444</text>\n<text text-anchor=\"start\" x=\"1138\" y=\"-417.3\" font-family=\"Helvetica,sans-Serif\" font-size=\"14.00\" fill=\"#000000\">samples = 3</text>\n<text text-anchor=\"start\" x=\"1128\" y=\"-402.3\" font-family=\"Helvetica,sans-Serif\" font-size=\"14.00\" fill=\"#000000\">value = [0, 1, 2]</text>\n</g>\n<!-- 46&#45;&gt;47 -->\n<g id=\"edge47\" class=\"edge\">\n<title>46&#45;&gt;47</title>\n<path fill=\"none\" stroke=\"#000000\" d=\"M1224.2882,-488.8089C1217.0762,-478.3568 1209.0401,-466.7103 1201.6912,-456.0597\"/>\n<polygon fill=\"#000000\" stroke=\"#000000\" points=\"1204.5338,-454.0166 1195.9737,-447.7735 1198.7722,-457.9921 1204.5338,-454.0166\"/>\n</g>\n<!-- 48 -->\n<g id=\"node49\" class=\"node\">\n<title>48</title>\n<path fill=\"#44e688\" stroke=\"#000000\" d=\"M1364,-453C1364,-453 1265,-453 1265,-453 1259,-453 1253,-447 1253,-441 1253,-441 1253,-401 1253,-401 1253,-395 1259,-389 1265,-389 1265,-389 1364,-389 1364,-389 1370,-389 1376,-395 1376,-401 1376,-401 1376,-441 1376,-441 1376,-447 1370,-453 1364,-453\"/>\n<text text-anchor=\"start\" x=\"1277.5\" y=\"-438.8\" font-family=\"Helvetica,sans-Serif\" font-size=\"14.00\" fill=\"#000000\">X</text>\n<text text-anchor=\"start\" x=\"1287.5\" y=\"-438.8\" font-family=\"Helvetica,sans-Serif\" baseline-shift=\"sub\" font-size=\"14.00\" fill=\"#000000\">3</text>\n<text text-anchor=\"start\" x=\"1294.5\" y=\"-438.8\" font-family=\"Helvetica,sans-Serif\" font-size=\"14.00\" fill=\"#000000\"> ≤ &#45;0.087</text>\n<text text-anchor=\"start\" x=\"1285\" y=\"-424.8\" font-family=\"Helvetica,sans-Serif\" font-size=\"14.00\" fill=\"#000000\">gini = 0.1</text>\n<text text-anchor=\"start\" x=\"1270.5\" y=\"-410.8\" font-family=\"Helvetica,sans-Serif\" font-size=\"14.00\" fill=\"#000000\">samples = 19</text>\n<text text-anchor=\"start\" x=\"1261\" y=\"-396.8\" font-family=\"Helvetica,sans-Serif\" font-size=\"14.00\" fill=\"#000000\">value = [1, 18, 0]</text>\n</g>\n<!-- 46&#45;&gt;48 -->\n<g id=\"edge48\" class=\"edge\">\n<title>46&#45;&gt;48</title>\n<path fill=\"none\" stroke=\"#000000\" d=\"M1268.3899,-488.8089C1274.2744,-480.1553 1280.7156,-470.683 1286.8682,-461.635\"/>\n<polygon fill=\"#000000\" stroke=\"#000000\" points=\"1289.9222,-463.3681 1292.6511,-453.1308 1284.1337,-459.4319 1289.9222,-463.3681\"/>\n</g>\n<!-- 49 -->\n<g id=\"node50\" class=\"node\">\n<title>49</title>\n<path fill=\"#9cf2c0\" stroke=\"#000000\" d=\"M1289,-347.5C1289,-347.5 1198,-347.5 1198,-347.5 1192,-347.5 1186,-341.5 1186,-335.5 1186,-335.5 1186,-306.5 1186,-306.5 1186,-300.5 1192,-294.5 1198,-294.5 1198,-294.5 1289,-294.5 1289,-294.5 1295,-294.5 1301,-300.5 1301,-306.5 1301,-306.5 1301,-335.5 1301,-335.5 1301,-341.5 1295,-347.5 1289,-347.5\"/>\n<text text-anchor=\"start\" x=\"1205.5\" y=\"-332.3\" font-family=\"Helvetica,sans-Serif\" font-size=\"14.00\" fill=\"#000000\">gini = 0.444</text>\n<text text-anchor=\"start\" x=\"1204\" y=\"-317.3\" font-family=\"Helvetica,sans-Serif\" font-size=\"14.00\" fill=\"#000000\">samples = 3</text>\n<text text-anchor=\"start\" x=\"1194\" y=\"-302.3\" font-family=\"Helvetica,sans-Serif\" font-size=\"14.00\" fill=\"#000000\">value = [1, 2, 0]</text>\n</g>\n<!-- 48&#45;&gt;49 -->\n<g id=\"edge49\" class=\"edge\">\n<title>48&#45;&gt;49</title>\n<path fill=\"none\" stroke=\"#000000\" d=\"M1291.6443,-388.8089C1284.2233,-378.3568 1275.9543,-366.7103 1268.3924,-356.0597\"/>\n<polygon fill=\"#000000\" stroke=\"#000000\" points=\"1271.1523,-353.9011 1262.5092,-347.7735 1265.4446,-357.9536 1271.1523,-353.9011\"/>\n</g>\n<!-- 50 -->\n<g id=\"node51\" class=\"node\">\n<title>50</title>\n<path fill=\"#39e581\" stroke=\"#000000\" d=\"M1430,-347.5C1430,-347.5 1331,-347.5 1331,-347.5 1325,-347.5 1319,-341.5 1319,-335.5 1319,-335.5 1319,-306.5 1319,-306.5 1319,-300.5 1325,-294.5 1331,-294.5 1331,-294.5 1430,-294.5 1430,-294.5 1436,-294.5 1442,-300.5 1442,-306.5 1442,-306.5 1442,-335.5 1442,-335.5 1442,-341.5 1436,-347.5 1430,-347.5\"/>\n<text text-anchor=\"start\" x=\"1351\" y=\"-332.3\" font-family=\"Helvetica,sans-Serif\" font-size=\"14.00\" fill=\"#000000\">gini = 0.0</text>\n<text text-anchor=\"start\" x=\"1336.5\" y=\"-317.3\" font-family=\"Helvetica,sans-Serif\" font-size=\"14.00\" fill=\"#000000\">samples = 16</text>\n<text text-anchor=\"start\" x=\"1327\" y=\"-302.3\" font-family=\"Helvetica,sans-Serif\" font-size=\"14.00\" fill=\"#000000\">value = [0, 16, 0]</text>\n</g>\n<!-- 48&#45;&gt;50 -->\n<g id=\"edge50\" class=\"edge\">\n<title>48&#45;&gt;50</title>\n<path fill=\"none\" stroke=\"#000000\" d=\"M1335.7461,-388.8089C1342.5762,-378.4603 1350.1791,-366.9408 1357.1516,-356.3764\"/>\n<polygon fill=\"#000000\" stroke=\"#000000\" points=\"1360.2421,-358.0476 1362.8295,-347.7735 1354.3999,-354.1917 1360.2421,-358.0476\"/>\n</g>\n<!-- 53 -->\n<g id=\"node54\" class=\"node\">\n<title>53</title>\n<path fill=\"#ba92f1\" stroke=\"#000000\" d=\"M1631,-753C1631,-753 1532,-753 1532,-753 1526,-753 1520,-747 1520,-741 1520,-741 1520,-701 1520,-701 1520,-695 1526,-689 1532,-689 1532,-689 1631,-689 1631,-689 1637,-689 1643,-695 1643,-701 1643,-701 1643,-741 1643,-741 1643,-747 1637,-753 1631,-753\"/>\n<text text-anchor=\"start\" x=\"1547\" y=\"-738.8\" font-family=\"Helvetica,sans-Serif\" font-size=\"14.00\" fill=\"#000000\">X</text>\n<text text-anchor=\"start\" x=\"1557\" y=\"-738.8\" font-family=\"Helvetica,sans-Serif\" baseline-shift=\"sub\" font-size=\"14.00\" fill=\"#000000\">0</text>\n<text text-anchor=\"start\" x=\"1564\" y=\"-738.8\" font-family=\"Helvetica,sans-Serif\" font-size=\"14.00\" fill=\"#000000\"> ≤ 0.879</text>\n<text text-anchor=\"start\" x=\"1543.5\" y=\"-724.8\" font-family=\"Helvetica,sans-Serif\" font-size=\"14.00\" fill=\"#000000\">gini = 0.428</text>\n<text text-anchor=\"start\" x=\"1537.5\" y=\"-710.8\" font-family=\"Helvetica,sans-Serif\" font-size=\"14.00\" fill=\"#000000\">samples = 29</text>\n<text text-anchor=\"start\" x=\"1528\" y=\"-696.8\" font-family=\"Helvetica,sans-Serif\" font-size=\"14.00\" fill=\"#000000\">value = [0, 9, 20]</text>\n</g>\n<!-- 52&#45;&gt;53 -->\n<g id=\"edge53\" class=\"edge\">\n<title>52&#45;&gt;53</title>\n<path fill=\"none\" stroke=\"#000000\" d=\"M1581.5,-788.8089C1581.5,-780.6906 1581.5,-771.8517 1581.5,-763.3186\"/>\n<polygon fill=\"#000000\" stroke=\"#000000\" points=\"1585.0001,-763.1307 1581.5,-753.1308 1578.0001,-763.1308 1585.0001,-763.1307\"/>\n</g>\n<!-- 62 -->\n<g id=\"node63\" class=\"node\">\n<title>62</title>\n<path fill=\"#833de5\" stroke=\"#000000\" d=\"M1837,-753C1837,-753 1738,-753 1738,-753 1732,-753 1726,-747 1726,-741 1726,-741 1726,-701 1726,-701 1726,-695 1732,-689 1738,-689 1738,-689 1837,-689 1837,-689 1843,-689 1849,-695 1849,-701 1849,-701 1849,-741 1849,-741 1849,-747 1843,-753 1837,-753\"/>\n<text text-anchor=\"start\" x=\"1753\" y=\"-738.8\" font-family=\"Helvetica,sans-Serif\" font-size=\"14.00\" fill=\"#000000\">X</text>\n<text text-anchor=\"start\" x=\"1763\" y=\"-738.8\" font-family=\"Helvetica,sans-Serif\" baseline-shift=\"sub\" font-size=\"14.00\" fill=\"#000000\">4</text>\n<text text-anchor=\"start\" x=\"1770\" y=\"-738.8\" font-family=\"Helvetica,sans-Serif\" font-size=\"14.00\" fill=\"#000000\"> ≤ 0.028</text>\n<text text-anchor=\"start\" x=\"1749.5\" y=\"-724.8\" font-family=\"Helvetica,sans-Serif\" font-size=\"14.00\" fill=\"#000000\">gini = 0.036</text>\n<text text-anchor=\"start\" x=\"1743.5\" y=\"-710.8\" font-family=\"Helvetica,sans-Serif\" font-size=\"14.00\" fill=\"#000000\">samples = 54</text>\n<text text-anchor=\"start\" x=\"1734\" y=\"-696.8\" font-family=\"Helvetica,sans-Serif\" font-size=\"14.00\" fill=\"#000000\">value = [0, 1, 53]</text>\n</g>\n<!-- 52&#45;&gt;62 -->\n<g id=\"edge62\" class=\"edge\">\n<title>52&#45;&gt;62</title>\n<path fill=\"none\" stroke=\"#000000\" d=\"M1647.2461,-789.0844C1669.3929,-778.3335 1694.1955,-766.2934 1716.7139,-755.3622\"/>\n<polygon fill=\"#000000\" stroke=\"#000000\" points=\"1718.4109,-758.429 1725.8785,-750.9133 1715.354,-752.1318 1718.4109,-758.429\"/>\n</g>\n<!-- 54 -->\n<g id=\"node55\" class=\"node\">\n<title>54</title>\n<path fill=\"#a470ec\" stroke=\"#000000\" d=\"M1567,-653C1567,-653 1468,-653 1468,-653 1462,-653 1456,-647 1456,-641 1456,-641 1456,-601 1456,-601 1456,-595 1462,-589 1468,-589 1468,-589 1567,-589 1567,-589 1573,-589 1579,-595 1579,-601 1579,-601 1579,-641 1579,-641 1579,-647 1573,-653 1567,-653\"/>\n<text text-anchor=\"start\" x=\"1483\" y=\"-638.8\" font-family=\"Helvetica,sans-Serif\" font-size=\"14.00\" fill=\"#000000\">X</text>\n<text text-anchor=\"start\" x=\"1493\" y=\"-638.8\" font-family=\"Helvetica,sans-Serif\" baseline-shift=\"sub\" font-size=\"14.00\" fill=\"#000000\">1</text>\n<text text-anchor=\"start\" x=\"1500\" y=\"-638.8\" font-family=\"Helvetica,sans-Serif\" font-size=\"14.00\" fill=\"#000000\"> ≤ 0.656</text>\n<text text-anchor=\"start\" x=\"1484\" y=\"-624.8\" font-family=\"Helvetica,sans-Serif\" font-size=\"14.00\" fill=\"#000000\">gini = 0.34</text>\n<text text-anchor=\"start\" x=\"1473.5\" y=\"-610.8\" font-family=\"Helvetica,sans-Serif\" font-size=\"14.00\" fill=\"#000000\">samples = 23</text>\n<text text-anchor=\"start\" x=\"1464\" y=\"-596.8\" font-family=\"Helvetica,sans-Serif\" font-size=\"14.00\" fill=\"#000000\">value = [0, 5, 18]</text>\n</g>\n<!-- 53&#45;&gt;54 -->\n<g id=\"edge54\" class=\"edge\">\n<title>53&#45;&gt;54</title>\n<path fill=\"none\" stroke=\"#000000\" d=\"M1560.8977,-688.8089C1555.3594,-680.1553 1549.2971,-670.683 1543.5064,-661.635\"/>\n<polygon fill=\"#000000\" stroke=\"#000000\" points=\"1546.4022,-659.6668 1538.0637,-653.1308 1540.5063,-663.4402 1546.4022,-659.6668\"/>\n</g>\n<!-- 61 -->\n<g id=\"node62\" class=\"node\">\n<title>61</title>\n<path fill=\"#9cf2c0\" stroke=\"#000000\" d=\"M1700,-647.5C1700,-647.5 1609,-647.5 1609,-647.5 1603,-647.5 1597,-641.5 1597,-635.5 1597,-635.5 1597,-606.5 1597,-606.5 1597,-600.5 1603,-594.5 1609,-594.5 1609,-594.5 1700,-594.5 1700,-594.5 1706,-594.5 1712,-600.5 1712,-606.5 1712,-606.5 1712,-635.5 1712,-635.5 1712,-641.5 1706,-647.5 1700,-647.5\"/>\n<text text-anchor=\"start\" x=\"1616.5\" y=\"-632.3\" font-family=\"Helvetica,sans-Serif\" font-size=\"14.00\" fill=\"#000000\">gini = 0.444</text>\n<text text-anchor=\"start\" x=\"1615\" y=\"-617.3\" font-family=\"Helvetica,sans-Serif\" font-size=\"14.00\" fill=\"#000000\">samples = 6</text>\n<text text-anchor=\"start\" x=\"1605\" y=\"-602.3\" font-family=\"Helvetica,sans-Serif\" font-size=\"14.00\" fill=\"#000000\">value = [0, 4, 2]</text>\n</g>\n<!-- 53&#45;&gt;61 -->\n<g id=\"edge61\" class=\"edge\">\n<title>53&#45;&gt;61</title>\n<path fill=\"none\" stroke=\"#000000\" d=\"M1604.9995,-688.8089C1612.6296,-678.3568 1621.1315,-666.7103 1628.9064,-656.0597\"/>\n<polygon fill=\"#000000\" stroke=\"#000000\" points=\"1631.8861,-657.9141 1634.9553,-647.7735 1626.2323,-653.7868 1631.8861,-657.9141\"/>\n</g>\n<!-- 55 -->\n<g id=\"node56\" class=\"node\">\n<title>55</title>\n<path fill=\"#d0b5f5\" stroke=\"#000000\" d=\"M1563,-553C1563,-553 1472,-553 1472,-553 1466,-553 1460,-547 1460,-541 1460,-541 1460,-501 1460,-501 1460,-495 1466,-489 1472,-489 1472,-489 1563,-489 1563,-489 1569,-489 1575,-495 1575,-501 1575,-501 1575,-541 1575,-541 1575,-547 1569,-553 1563,-553\"/>\n<text text-anchor=\"start\" x=\"1483\" y=\"-538.8\" font-family=\"Helvetica,sans-Serif\" font-size=\"14.00\" fill=\"#000000\">X</text>\n<text text-anchor=\"start\" x=\"1493\" y=\"-538.8\" font-family=\"Helvetica,sans-Serif\" baseline-shift=\"sub\" font-size=\"14.00\" fill=\"#000000\">2</text>\n<text text-anchor=\"start\" x=\"1500\" y=\"-538.8\" font-family=\"Helvetica,sans-Serif\" font-size=\"14.00\" fill=\"#000000\"> ≤ 0.141</text>\n<text text-anchor=\"start\" x=\"1479.5\" y=\"-524.8\" font-family=\"Helvetica,sans-Serif\" font-size=\"14.00\" fill=\"#000000\">gini = 0.473</text>\n<text text-anchor=\"start\" x=\"1473.5\" y=\"-510.8\" font-family=\"Helvetica,sans-Serif\" font-size=\"14.00\" fill=\"#000000\">samples = 13</text>\n<text text-anchor=\"start\" x=\"1468\" y=\"-496.8\" font-family=\"Helvetica,sans-Serif\" font-size=\"14.00\" fill=\"#000000\">value = [0, 5, 8]</text>\n</g>\n<!-- 54&#45;&gt;55 -->\n<g id=\"edge55\" class=\"edge\">\n<title>54&#45;&gt;55</title>\n<path fill=\"none\" stroke=\"#000000\" d=\"M1517.5,-588.8089C1517.5,-580.6906 1517.5,-571.8517 1517.5,-563.3186\"/>\n<polygon fill=\"#000000\" stroke=\"#000000\" points=\"1521.0001,-563.1307 1517.5,-553.1308 1514.0001,-563.1308 1521.0001,-563.1307\"/>\n</g>\n<!-- 60 -->\n<g id=\"node61\" class=\"node\">\n<title>60</title>\n<path fill=\"#8139e5\" stroke=\"#000000\" d=\"M1704,-547.5C1704,-547.5 1605,-547.5 1605,-547.5 1599,-547.5 1593,-541.5 1593,-535.5 1593,-535.5 1593,-506.5 1593,-506.5 1593,-500.5 1599,-494.5 1605,-494.5 1605,-494.5 1704,-494.5 1704,-494.5 1710,-494.5 1716,-500.5 1716,-506.5 1716,-506.5 1716,-535.5 1716,-535.5 1716,-541.5 1710,-547.5 1704,-547.5\"/>\n<text text-anchor=\"start\" x=\"1625\" y=\"-532.3\" font-family=\"Helvetica,sans-Serif\" font-size=\"14.00\" fill=\"#000000\">gini = 0.0</text>\n<text text-anchor=\"start\" x=\"1610.5\" y=\"-517.3\" font-family=\"Helvetica,sans-Serif\" font-size=\"14.00\" fill=\"#000000\">samples = 10</text>\n<text text-anchor=\"start\" x=\"1601\" y=\"-502.3\" font-family=\"Helvetica,sans-Serif\" font-size=\"14.00\" fill=\"#000000\">value = [0, 0, 10]</text>\n</g>\n<!-- 54&#45;&gt;60 -->\n<g id=\"edge60\" class=\"edge\">\n<title>54&#45;&gt;60</title>\n<path fill=\"none\" stroke=\"#000000\" d=\"M1561.6018,-588.8089C1576.9136,-577.6324 1594.0964,-565.0902 1609.4814,-553.8603\"/>\n<polygon fill=\"#000000\" stroke=\"#000000\" points=\"1611.8066,-556.4963 1617.8203,-547.7735 1607.6796,-550.8423 1611.8066,-556.4963\"/>\n</g>\n<!-- 56 -->\n<g id=\"node57\" class=\"node\">\n<title>56</title>\n<path fill=\"#a572ec\" stroke=\"#000000\" d=\"M1563,-453C1563,-453 1472,-453 1472,-453 1466,-453 1460,-447 1460,-441 1460,-441 1460,-401 1460,-401 1460,-395 1466,-389 1472,-389 1472,-389 1563,-389 1563,-389 1569,-389 1575,-395 1575,-401 1575,-401 1575,-441 1575,-441 1575,-447 1569,-453 1563,-453\"/>\n<text text-anchor=\"start\" x=\"1480.5\" y=\"-438.8\" font-family=\"Helvetica,sans-Serif\" font-size=\"14.00\" fill=\"#000000\">X</text>\n<text text-anchor=\"start\" x=\"1490.5\" y=\"-438.8\" font-family=\"Helvetica,sans-Serif\" baseline-shift=\"sub\" font-size=\"14.00\" fill=\"#000000\">1</text>\n<text text-anchor=\"start\" x=\"1497.5\" y=\"-438.8\" font-family=\"Helvetica,sans-Serif\" font-size=\"14.00\" fill=\"#000000\"> ≤ &#45;0.002</text>\n<text text-anchor=\"start\" x=\"1479.5\" y=\"-424.8\" font-family=\"Helvetica,sans-Serif\" font-size=\"14.00\" fill=\"#000000\">gini = 0.346</text>\n<text text-anchor=\"start\" x=\"1478\" y=\"-410.8\" font-family=\"Helvetica,sans-Serif\" font-size=\"14.00\" fill=\"#000000\">samples = 9</text>\n<text text-anchor=\"start\" x=\"1468\" y=\"-396.8\" font-family=\"Helvetica,sans-Serif\" font-size=\"14.00\" fill=\"#000000\">value = [0, 2, 7]</text>\n</g>\n<!-- 55&#45;&gt;56 -->\n<g id=\"edge56\" class=\"edge\">\n<title>55&#45;&gt;56</title>\n<path fill=\"none\" stroke=\"#000000\" d=\"M1517.5,-488.8089C1517.5,-480.6906 1517.5,-471.8517 1517.5,-463.3186\"/>\n<polygon fill=\"#000000\" stroke=\"#000000\" points=\"1521.0001,-463.1307 1517.5,-453.1308 1514.0001,-463.1308 1521.0001,-463.1307\"/>\n</g>\n<!-- 59 -->\n<g id=\"node60\" class=\"node\">\n<title>59</title>\n<path fill=\"#7beeab\" stroke=\"#000000\" d=\"M1696,-447.5C1696,-447.5 1605,-447.5 1605,-447.5 1599,-447.5 1593,-441.5 1593,-435.5 1593,-435.5 1593,-406.5 1593,-406.5 1593,-400.5 1599,-394.5 1605,-394.5 1605,-394.5 1696,-394.5 1696,-394.5 1702,-394.5 1708,-400.5 1708,-406.5 1708,-406.5 1708,-435.5 1708,-435.5 1708,-441.5 1702,-447.5 1696,-447.5\"/>\n<text text-anchor=\"start\" x=\"1612.5\" y=\"-432.3\" font-family=\"Helvetica,sans-Serif\" font-size=\"14.00\" fill=\"#000000\">gini = 0.375</text>\n<text text-anchor=\"start\" x=\"1611\" y=\"-417.3\" font-family=\"Helvetica,sans-Serif\" font-size=\"14.00\" fill=\"#000000\">samples = 4</text>\n<text text-anchor=\"start\" x=\"1601\" y=\"-402.3\" font-family=\"Helvetica,sans-Serif\" font-size=\"14.00\" fill=\"#000000\">value = [0, 3, 1]</text>\n</g>\n<!-- 55&#45;&gt;59 -->\n<g id=\"edge59\" class=\"edge\">\n<title>55&#45;&gt;59</title>\n<path fill=\"none\" stroke=\"#000000\" d=\"M1560.3141,-488.8089C1575.1789,-477.6324 1591.86,-465.0902 1606.7958,-453.8603\"/>\n<polygon fill=\"#000000\" stroke=\"#000000\" points=\"1609.0018,-456.5807 1614.8912,-447.7735 1604.795,-450.9857 1609.0018,-456.5807\"/>\n</g>\n<!-- 57 -->\n<g id=\"node58\" class=\"node\">\n<title>57</title>\n<path fill=\"#ffffff\" stroke=\"#000000\" d=\"M1563,-347.5C1563,-347.5 1472,-347.5 1472,-347.5 1466,-347.5 1460,-341.5 1460,-335.5 1460,-335.5 1460,-306.5 1460,-306.5 1460,-300.5 1466,-294.5 1472,-294.5 1472,-294.5 1563,-294.5 1563,-294.5 1569,-294.5 1575,-300.5 1575,-306.5 1575,-306.5 1575,-335.5 1575,-335.5 1575,-341.5 1569,-347.5 1563,-347.5\"/>\n<text text-anchor=\"start\" x=\"1488\" y=\"-332.3\" font-family=\"Helvetica,sans-Serif\" font-size=\"14.00\" fill=\"#000000\">gini = 0.5</text>\n<text text-anchor=\"start\" x=\"1478\" y=\"-317.3\" font-family=\"Helvetica,sans-Serif\" font-size=\"14.00\" fill=\"#000000\">samples = 4</text>\n<text text-anchor=\"start\" x=\"1468\" y=\"-302.3\" font-family=\"Helvetica,sans-Serif\" font-size=\"14.00\" fill=\"#000000\">value = [0, 2, 2]</text>\n</g>\n<!-- 56&#45;&gt;57 -->\n<g id=\"edge57\" class=\"edge\">\n<title>56&#45;&gt;57</title>\n<path fill=\"none\" stroke=\"#000000\" d=\"M1517.5,-388.8089C1517.5,-378.9777 1517.5,-368.0898 1517.5,-357.9679\"/>\n<polygon fill=\"#000000\" stroke=\"#000000\" points=\"1521.0001,-357.7735 1517.5,-347.7735 1514.0001,-357.7736 1521.0001,-357.7735\"/>\n</g>\n<!-- 58 -->\n<g id=\"node59\" class=\"node\">\n<title>58</title>\n<path fill=\"#8139e5\" stroke=\"#000000\" d=\"M1696,-347.5C1696,-347.5 1605,-347.5 1605,-347.5 1599,-347.5 1593,-341.5 1593,-335.5 1593,-335.5 1593,-306.5 1593,-306.5 1593,-300.5 1599,-294.5 1605,-294.5 1605,-294.5 1696,-294.5 1696,-294.5 1702,-294.5 1708,-300.5 1708,-306.5 1708,-306.5 1708,-335.5 1708,-335.5 1708,-341.5 1702,-347.5 1696,-347.5\"/>\n<text text-anchor=\"start\" x=\"1621\" y=\"-332.3\" font-family=\"Helvetica,sans-Serif\" font-size=\"14.00\" fill=\"#000000\">gini = 0.0</text>\n<text text-anchor=\"start\" x=\"1611\" y=\"-317.3\" font-family=\"Helvetica,sans-Serif\" font-size=\"14.00\" fill=\"#000000\">samples = 5</text>\n<text text-anchor=\"start\" x=\"1601\" y=\"-302.3\" font-family=\"Helvetica,sans-Serif\" font-size=\"14.00\" fill=\"#000000\">value = [0, 0, 5]</text>\n</g>\n<!-- 56&#45;&gt;58 -->\n<g id=\"edge58\" class=\"edge\">\n<title>56&#45;&gt;58</title>\n<path fill=\"none\" stroke=\"#000000\" d=\"M1560.3141,-388.8089C1575.1789,-377.6324 1591.86,-365.0902 1606.7958,-353.8603\"/>\n<polygon fill=\"#000000\" stroke=\"#000000\" points=\"1609.0018,-356.5807 1614.8912,-347.7735 1604.795,-350.9857 1609.0018,-356.5807\"/>\n</g>\n<!-- 63 -->\n<g id=\"node64\" class=\"node\">\n<title>63</title>\n<path fill=\"#ab7bee\" stroke=\"#000000\" d=\"M1833,-647.5C1833,-647.5 1742,-647.5 1742,-647.5 1736,-647.5 1730,-641.5 1730,-635.5 1730,-635.5 1730,-606.5 1730,-606.5 1730,-600.5 1736,-594.5 1742,-594.5 1742,-594.5 1833,-594.5 1833,-594.5 1839,-594.5 1845,-600.5 1845,-606.5 1845,-606.5 1845,-635.5 1845,-635.5 1845,-641.5 1839,-647.5 1833,-647.5\"/>\n<text text-anchor=\"start\" x=\"1749.5\" y=\"-632.3\" font-family=\"Helvetica,sans-Serif\" font-size=\"14.00\" fill=\"#000000\">gini = 0.375</text>\n<text text-anchor=\"start\" x=\"1748\" y=\"-617.3\" font-family=\"Helvetica,sans-Serif\" font-size=\"14.00\" fill=\"#000000\">samples = 4</text>\n<text text-anchor=\"start\" x=\"1738\" y=\"-602.3\" font-family=\"Helvetica,sans-Serif\" font-size=\"14.00\" fill=\"#000000\">value = [0, 1, 3]</text>\n</g>\n<!-- 62&#45;&gt;63 -->\n<g id=\"edge63\" class=\"edge\">\n<title>62&#45;&gt;63</title>\n<path fill=\"none\" stroke=\"#000000\" d=\"M1787.5,-688.8089C1787.5,-678.9777 1787.5,-668.0898 1787.5,-657.9679\"/>\n<polygon fill=\"#000000\" stroke=\"#000000\" points=\"1791.0001,-657.7735 1787.5,-647.7735 1784.0001,-657.7736 1791.0001,-657.7735\"/>\n</g>\n<!-- 64 -->\n<g id=\"node65\" class=\"node\">\n<title>64</title>\n<path fill=\"#8139e5\" stroke=\"#000000\" d=\"M1974,-647.5C1974,-647.5 1875,-647.5 1875,-647.5 1869,-647.5 1863,-641.5 1863,-635.5 1863,-635.5 1863,-606.5 1863,-606.5 1863,-600.5 1869,-594.5 1875,-594.5 1875,-594.5 1974,-594.5 1974,-594.5 1980,-594.5 1986,-600.5 1986,-606.5 1986,-606.5 1986,-635.5 1986,-635.5 1986,-641.5 1980,-647.5 1974,-647.5\"/>\n<text text-anchor=\"start\" x=\"1895\" y=\"-632.3\" font-family=\"Helvetica,sans-Serif\" font-size=\"14.00\" fill=\"#000000\">gini = 0.0</text>\n<text text-anchor=\"start\" x=\"1880.5\" y=\"-617.3\" font-family=\"Helvetica,sans-Serif\" font-size=\"14.00\" fill=\"#000000\">samples = 50</text>\n<text text-anchor=\"start\" x=\"1871\" y=\"-602.3\" font-family=\"Helvetica,sans-Serif\" font-size=\"14.00\" fill=\"#000000\">value = [0, 0, 50]</text>\n</g>\n<!-- 62&#45;&gt;64 -->\n<g id=\"edge64\" class=\"edge\">\n<title>62&#45;&gt;64</title>\n<path fill=\"none\" stroke=\"#000000\" d=\"M1831.6018,-688.8089C1846.9136,-677.6324 1864.0964,-665.0902 1879.4814,-653.8603\"/>\n<polygon fill=\"#000000\" stroke=\"#000000\" points=\"1881.8066,-656.4963 1887.8203,-647.7735 1877.6796,-650.8423 1881.8066,-656.4963\"/>\n</g>\n</g>\n</svg>\n"
          },
          "metadata": {
            "tags": []
          },
          "execution_count": 13
        },
        {
          "output_type": "display_data",
          "data": {
            "text/plain": [
              "<Figure size 360x360 with 0 Axes>"
            ]
          },
          "metadata": {
            "tags": []
          }
        }
      ]
    },
    {
      "cell_type": "code",
      "metadata": {
        "id": "Hb9ITOxqNPVQ",
        "colab_type": "code",
        "colab": {}
      },
      "source": [
        ""
      ],
      "execution_count": null,
      "outputs": []
    }
  ]
}